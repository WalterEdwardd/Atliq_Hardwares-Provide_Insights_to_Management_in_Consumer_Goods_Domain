{
 "cells": [
  {
   "cell_type": "markdown",
   "metadata": {},
   "source": [
    "# Preparing"
   ]
  },
  {
   "cell_type": "markdown",
   "metadata": {},
   "source": [
    "## Importing Required Libraries"
   ]
  },
  {
   "cell_type": "code",
   "execution_count": 84,
   "metadata": {},
   "outputs": [],
   "source": [
    "# import library used for data processing\n",
    "import pandas as pd\n",
    "pd.set_option('display.max_columns', None) # to remove the limit of columns shows as output\n",
    "import numpy as np\n",
    "import datetime as dt\n",
    "import copy\n",
    "from IPython.display import display\n",
    "\n",
    "# import library for visualization\n",
    "import seaborn as sns\n",
    "import matplotlib.pyplot as plt\n",
    "%matplotlib inline"
   ]
  },
  {
   "cell_type": "markdown",
   "metadata": {},
   "source": [
    "## Importing Data"
   ]
  },
  {
   "cell_type": "code",
   "execution_count": 85,
   "metadata": {},
   "outputs": [],
   "source": [
    "# customer data\n",
    "dim_customers = pd.read_csv(\"C:/Users/PC/Downloads/Atliq_Hardwares-Provide_Insights_to_Management_in_Consumer_Goods_Domain/data/raw_data/dim_customers.csv\", encoding='ISO-8859-1')\n",
    "# product data\n",
    "dim_products = pd.read_csv(\"C:/Users/PC/Downloads/Atliq_Hardwares-Provide_Insights_to_Management_in_Consumer_Goods_Domain/data/raw_data/dim_products.csv\", encoding='ISO-8859-1')\n",
    "# gross price data\n",
    "fact_gross_price = pd.read_csv(\"C:/Users/PC/Downloads/Atliq_Hardwares-Provide_Insights_to_Management_in_Consumer_Goods_Domain/data/raw_data/fact_gross_price.csv\", encoding='ISO-8859-1')\n",
    "# manufacturing cost data\n",
    "fact_manufacturing_cost = pd.read_csv(\"C:/Users/PC/Downloads/Atliq_Hardwares-Provide_Insights_to_Management_in_Consumer_Goods_Domain/data/raw_data/fact_manufacturing_cost.csv\", encoding='ISO-8859-1')\n",
    "# discount data\n",
    "fact_pre_invoice_deduction = pd.read_csv(\"C:/Users/PC/Downloads/Atliq_Hardwares-Provide_Insights_to_Management_in_Consumer_Goods_Domain/data/raw_data/fact_pre_invoice_deduction.csv\", encoding='ISO-8859-1')\n",
    "# sales data\n",
    "fact_sales_monthly = pd.read_csv(\"C:/Users/PC/Downloads/Atliq_Hardwares-Provide_Insights_to_Management_in_Consumer_Goods_Domain/data/raw_data/fact_sales_monthly.csv\", encoding='ISO-8859-1')"
   ]
  },
  {
   "cell_type": "markdown",
   "metadata": {},
   "source": [
    "## Data Understanding"
   ]
  },
  {
   "cell_type": "markdown",
   "metadata": {},
   "source": [
    "### Customer Data\n",
    "Column Description for dim_customer table:\n",
    "1. customer_code: The 'customer_code' column features unique identification codes for every customer in the dataset. These codes can be used to track a customer's sales history, demographic information, and other relevant details. For example, the codes could look like '70002017', '90005160', and '80007195' respectively.\n",
    "\n",
    "2. customer: The 'customer' column lists the names of customers, for example 'Atliq Exclusive', 'Flipkart', and 'Surface Stores' etc.\n",
    "\n",
    "3. platform: The 'platform' column identifies the means by which a company's products or services are sold. \"Brick & Mortar\" represents the physical store/location, and \"E-Commerce\" represents online platforms.\n",
    "\n",
    "4. channel: The 'channel' column reflects the distribution methods used to sell a product. These methods include \"Retailers\", \"Direct\", and \"Distributors\". Retailers refer to physical or online stores that sell products to consumers. Direct sales refer to sales made directly to consumers through a company's website or other direct means, and distributors refer to intermediaries or middlemen between the manufacturer and retailer or end consumers.\n",
    "\n",
    "5. market: The 'market' column lists the countries in which the customer is located.\n",
    "\n",
    "6. region: The 'region' column categorizes countries according to their geographic location, including \"APAC\" (Asia Pacific), \"EU\" (Europe), \"NA\" (North America), and \"LATAM\" (Latin America).\n",
    "\n",
    "7. sub_zone: \"The 'sub_zone' column further breaks down the regions into sub-regions, such as \"India\", \"ROA\" (Rest of Asia), \"ANZ\" (Australia and New Zealand), \"SE\" (Southeast Asia), \"NE\" (Northeast Asia), \"NA\" (North America), and \"LATAM\" (Latin America).\""
   ]
  },
  {
   "cell_type": "code",
   "execution_count": 86,
   "metadata": {},
   "outputs": [
    {
     "data": {
      "text/html": [
       "<div>\n",
       "<style scoped>\n",
       "    .dataframe tbody tr th:only-of-type {\n",
       "        vertical-align: middle;\n",
       "    }\n",
       "\n",
       "    .dataframe tbody tr th {\n",
       "        vertical-align: top;\n",
       "    }\n",
       "\n",
       "    .dataframe thead th {\n",
       "        text-align: right;\n",
       "    }\n",
       "</style>\n",
       "<table border=\"1\" class=\"dataframe\">\n",
       "  <thead>\n",
       "    <tr style=\"text-align: right;\">\n",
       "      <th></th>\n",
       "      <th>customer_code</th>\n",
       "      <th>customer</th>\n",
       "      <th>platform</th>\n",
       "      <th>channel</th>\n",
       "      <th>market</th>\n",
       "      <th>sub_zone</th>\n",
       "      <th>region</th>\n",
       "    </tr>\n",
       "  </thead>\n",
       "  <tbody>\n",
       "    <tr>\n",
       "      <th>0</th>\n",
       "      <td>70002017</td>\n",
       "      <td>Atliq Exclusive</td>\n",
       "      <td>Brick &amp; Mortar</td>\n",
       "      <td>Direct</td>\n",
       "      <td>India</td>\n",
       "      <td>India</td>\n",
       "      <td>APAC</td>\n",
       "    </tr>\n",
       "    <tr>\n",
       "      <th>1</th>\n",
       "      <td>70002018</td>\n",
       "      <td>Atliq e Store</td>\n",
       "      <td>E-Commerce</td>\n",
       "      <td>Direct</td>\n",
       "      <td>India</td>\n",
       "      <td>India</td>\n",
       "      <td>APAC</td>\n",
       "    </tr>\n",
       "    <tr>\n",
       "      <th>2</th>\n",
       "      <td>70003181</td>\n",
       "      <td>Atliq Exclusive</td>\n",
       "      <td>Brick &amp; Mortar</td>\n",
       "      <td>Direct</td>\n",
       "      <td>Indonesia</td>\n",
       "      <td>ROA</td>\n",
       "      <td>APAC</td>\n",
       "    </tr>\n",
       "    <tr>\n",
       "      <th>3</th>\n",
       "      <td>70003182</td>\n",
       "      <td>Atliq e Store</td>\n",
       "      <td>E-Commerce</td>\n",
       "      <td>Direct</td>\n",
       "      <td>Indonesia</td>\n",
       "      <td>ROA</td>\n",
       "      <td>APAC</td>\n",
       "    </tr>\n",
       "    <tr>\n",
       "      <th>4</th>\n",
       "      <td>70004069</td>\n",
       "      <td>Atliq Exclusive</td>\n",
       "      <td>Brick &amp; Mortar</td>\n",
       "      <td>Direct</td>\n",
       "      <td>Japan</td>\n",
       "      <td>ROA</td>\n",
       "      <td>APAC</td>\n",
       "    </tr>\n",
       "  </tbody>\n",
       "</table>\n",
       "</div>"
      ],
      "text/plain": [
       "   customer_code         customer        platform channel     market sub_zone  \\\n",
       "0       70002017  Atliq Exclusive  Brick & Mortar  Direct      India    India   \n",
       "1       70002018    Atliq e Store      E-Commerce  Direct      India    India   \n",
       "2       70003181  Atliq Exclusive  Brick & Mortar  Direct  Indonesia      ROA   \n",
       "3       70003182    Atliq e Store      E-Commerce  Direct  Indonesia      ROA   \n",
       "4       70004069  Atliq Exclusive  Brick & Mortar  Direct      Japan      ROA   \n",
       "\n",
       "  region  \n",
       "0   APAC  \n",
       "1   APAC  \n",
       "2   APAC  \n",
       "3   APAC  \n",
       "4   APAC  "
      ]
     },
     "execution_count": 86,
     "metadata": {},
     "output_type": "execute_result"
    }
   ],
   "source": [
    "# top records\n",
    "dim_customers.head()"
   ]
  },
  {
   "cell_type": "code",
   "execution_count": 87,
   "metadata": {},
   "outputs": [
    {
     "data": {
      "text/html": [
       "<div>\n",
       "<style scoped>\n",
       "    .dataframe tbody tr th:only-of-type {\n",
       "        vertical-align: middle;\n",
       "    }\n",
       "\n",
       "    .dataframe tbody tr th {\n",
       "        vertical-align: top;\n",
       "    }\n",
       "\n",
       "    .dataframe thead th {\n",
       "        text-align: right;\n",
       "    }\n",
       "</style>\n",
       "<table border=\"1\" class=\"dataframe\">\n",
       "  <thead>\n",
       "    <tr style=\"text-align: right;\">\n",
       "      <th></th>\n",
       "      <th>customer_code</th>\n",
       "      <th>customer</th>\n",
       "      <th>platform</th>\n",
       "      <th>channel</th>\n",
       "      <th>market</th>\n",
       "      <th>sub_zone</th>\n",
       "      <th>region</th>\n",
       "    </tr>\n",
       "  </thead>\n",
       "  <tbody>\n",
       "    <tr>\n",
       "      <th>204</th>\n",
       "      <td>90024183</td>\n",
       "      <td>Electricalsbea Stores</td>\n",
       "      <td>Brick &amp; Mortar</td>\n",
       "      <td>Retailer</td>\n",
       "      <td>Chile</td>\n",
       "      <td>LATAM</td>\n",
       "      <td>LATAM</td>\n",
       "    </tr>\n",
       "    <tr>\n",
       "      <th>205</th>\n",
       "      <td>90024184</td>\n",
       "      <td>Amazon</td>\n",
       "      <td>E-Commerce</td>\n",
       "      <td>Retailer</td>\n",
       "      <td>Chile</td>\n",
       "      <td>LATAM</td>\n",
       "      <td>LATAM</td>\n",
       "    </tr>\n",
       "    <tr>\n",
       "      <th>206</th>\n",
       "      <td>90025209</td>\n",
       "      <td>Electricalsbea Stores</td>\n",
       "      <td>Brick &amp; Mortar</td>\n",
       "      <td>Retailer</td>\n",
       "      <td>Columbia</td>\n",
       "      <td>LATAM</td>\n",
       "      <td>LATAM</td>\n",
       "    </tr>\n",
       "    <tr>\n",
       "      <th>207</th>\n",
       "      <td>90026205</td>\n",
       "      <td>Amazon</td>\n",
       "      <td>E-Commerce</td>\n",
       "      <td>Retailer</td>\n",
       "      <td>Mexico</td>\n",
       "      <td>LATAM</td>\n",
       "      <td>LATAM</td>\n",
       "    </tr>\n",
       "    <tr>\n",
       "      <th>208</th>\n",
       "      <td>90027207</td>\n",
       "      <td>Amazon</td>\n",
       "      <td>E-Commerce</td>\n",
       "      <td>Retailer</td>\n",
       "      <td>Brazil</td>\n",
       "      <td>LATAM</td>\n",
       "      <td>LATAM</td>\n",
       "    </tr>\n",
       "  </tbody>\n",
       "</table>\n",
       "</div>"
      ],
      "text/plain": [
       "     customer_code               customer        platform   channel    market  \\\n",
       "204       90024183  Electricalsbea Stores  Brick & Mortar  Retailer     Chile   \n",
       "205       90024184                Amazon       E-Commerce  Retailer     Chile   \n",
       "206       90025209  Electricalsbea Stores  Brick & Mortar  Retailer  Columbia   \n",
       "207       90026205                Amazon       E-Commerce  Retailer    Mexico   \n",
       "208       90027207                Amazon       E-Commerce  Retailer    Brazil   \n",
       "\n",
       "    sub_zone region  \n",
       "204    LATAM  LATAM  \n",
       "205    LATAM  LATAM  \n",
       "206    LATAM  LATAM  \n",
       "207    LATAM  LATAM  \n",
       "208    LATAM  LATAM  "
      ]
     },
     "execution_count": 87,
     "metadata": {},
     "output_type": "execute_result"
    }
   ],
   "source": [
    "# last records\n",
    "dim_customers.tail()"
   ]
  },
  {
   "cell_type": "code",
   "execution_count": 88,
   "metadata": {},
   "outputs": [
    {
     "name": "stdout",
     "output_type": "stream",
     "text": [
      "Shape of the Customers Data (209, 7)\n"
     ]
    }
   ],
   "source": [
    "# check data shape\n",
    "print(f\"Shape of the Customers Data {dim_customers.shape}\")"
   ]
  },
  {
   "cell_type": "code",
   "execution_count": 89,
   "metadata": {},
   "outputs": [
    {
     "name": "stdout",
     "output_type": "stream",
     "text": [
      "<class 'pandas.core.frame.DataFrame'>\n",
      "RangeIndex: 209 entries, 0 to 208\n",
      "Data columns (total 7 columns):\n",
      " #   Column         Non-Null Count  Dtype \n",
      "---  ------         --------------  ----- \n",
      " 0   customer_code  209 non-null    int64 \n",
      " 1   customer       209 non-null    object\n",
      " 2   platform       209 non-null    object\n",
      " 3   channel        209 non-null    object\n",
      " 4   market         209 non-null    object\n",
      " 5   sub_zone       183 non-null    object\n",
      " 6   region         183 non-null    object\n",
      "dtypes: int64(1), object(6)\n",
      "memory usage: 11.6+ KB\n"
     ]
    }
   ],
   "source": [
    "# check the data type of all columns and non values present in each\n",
    "dim_customers.info()"
   ]
  },
  {
   "cell_type": "code",
   "execution_count": 90,
   "metadata": {},
   "outputs": [
    {
     "data": {
      "text/html": [
       "<div>\n",
       "<style scoped>\n",
       "    .dataframe tbody tr th:only-of-type {\n",
       "        vertical-align: middle;\n",
       "    }\n",
       "\n",
       "    .dataframe tbody tr th {\n",
       "        vertical-align: top;\n",
       "    }\n",
       "\n",
       "    .dataframe thead th {\n",
       "        text-align: right;\n",
       "    }\n",
       "</style>\n",
       "<table border=\"1\" class=\"dataframe\">\n",
       "  <thead>\n",
       "    <tr style=\"text-align: right;\">\n",
       "      <th></th>\n",
       "      <th>customer_code</th>\n",
       "      <th>customer</th>\n",
       "      <th>platform</th>\n",
       "      <th>channel</th>\n",
       "      <th>market</th>\n",
       "      <th>sub_zone</th>\n",
       "      <th>region</th>\n",
       "    </tr>\n",
       "  </thead>\n",
       "  <tbody>\n",
       "  </tbody>\n",
       "</table>\n",
       "</div>"
      ],
      "text/plain": [
       "Empty DataFrame\n",
       "Columns: [customer_code, customer, platform, channel, market, sub_zone, region]\n",
       "Index: []"
      ]
     },
     "execution_count": 90,
     "metadata": {},
     "output_type": "execute_result"
    }
   ],
   "source": [
    "# duplication check\n",
    "dim_customers[dim_customers.duplicated()]"
   ]
  },
  {
   "cell_type": "code",
   "execution_count": 91,
   "metadata": {},
   "outputs": [
    {
     "data": {
      "text/plain": [
       "customer_code    209\n",
       "customer          75\n",
       "platform           2\n",
       "channel            3\n",
       "market            27\n",
       "sub_zone           6\n",
       "region             3\n",
       "dtype: int64"
      ]
     },
     "execution_count": 91,
     "metadata": {},
     "output_type": "execute_result"
    }
   ],
   "source": [
    "# number unique value in each column\n",
    "dim_customers.nunique()"
   ]
  },
  {
   "cell_type": "markdown",
   "metadata": {},
   "source": [
    "#### Check unique value in columns"
   ]
  },
  {
   "cell_type": "code",
   "execution_count": 92,
   "metadata": {},
   "outputs": [
    {
     "data": {
      "text/plain": [
       "array(['Atliq Exclusive', 'Atliq e Store', 'Neptune', 'Synthetic',\n",
       "       'Novus', 'Sage', 'Leader', 'Zone', 'Taobao', 'Reliance Digital',\n",
       "       'Croma', 'Ezone', 'Vijay Sales', 'Lotus', 'Viveks', 'Girias',\n",
       "       'Amazon', 'Flipkart', 'Ebay', 'Electricalsocity',\n",
       "       'Electricalslytical', 'Expression', 'Propel', 'Amazon ',\n",
       "       'Acclaimed Stores', 'Info Stores', 'Flawless Stores',\n",
       "       'Electricalsbea Stores', 'All-Out', 'Surface Stores',\n",
       "       'Nomad Stores', 'Insight', 'Digimarket', 'Forward Stores', 'Sound',\n",
       "       'Epic Stores', 'Logic Stores', 'Path', 'Control', 'Elite',\n",
       "       'Chip 7', 'Elkjøp', 'UniEuro', 'Media Markt', 'Sorefoz', 'Otto',\n",
       "       'Notebillig', 'Billa', 'Saturn', 'Expert',\n",
       "       'Currys (Dixons Carphone)', 'Fnac-Darty', 'Unity Stores',\n",
       "       'Euronics', \"Argos (Sainsbury's)\", 'Coolblue', 'Boulanger',\n",
       "       'Radio Popular', 'Electricalslance Stores', 'Mbit', 'Chiptec',\n",
       "       'Electricalsara Stores', 'Power', 'Premium Stores',\n",
       "       'Integration Stores', 'Relief', 'Atlas Stores',\n",
       "       'Electricalsquipo Stores', 'Nova', 'BestBuy', 'Circuit City',\n",
       "       'Radio Shack', 'Costco', 'walmart', 'Staples'], dtype=object)"
      ]
     },
     "execution_count": 92,
     "metadata": {},
     "output_type": "execute_result"
    }
   ],
   "source": [
    "# Check unique values ​​in customer column\n",
    "dim_customers['customer'].unique()"
   ]
  },
  {
   "cell_type": "code",
   "execution_count": 93,
   "metadata": {},
   "outputs": [
    {
     "data": {
      "text/plain": [
       "array(['Brick & Mortar', 'E-Commerce'], dtype=object)"
      ]
     },
     "execution_count": 93,
     "metadata": {},
     "output_type": "execute_result"
    }
   ],
   "source": [
    "# Check unique values ​​in platform column\n",
    "dim_customers['platform'].unique()"
   ]
  },
  {
   "cell_type": "code",
   "execution_count": 94,
   "metadata": {},
   "outputs": [
    {
     "data": {
      "text/plain": [
       "array(['Direct', 'Distributor', 'Retailer'], dtype=object)"
      ]
     },
     "execution_count": 94,
     "metadata": {},
     "output_type": "execute_result"
    }
   ],
   "source": [
    "# # Check unique values ​​in channel column\n",
    "dim_customers['channel'].unique()"
   ]
  },
  {
   "cell_type": "code",
   "execution_count": 95,
   "metadata": {},
   "outputs": [
    {
     "data": {
      "text/plain": [
       "array(['India', 'Indonesia', 'Japan', 'Pakistan', 'Philiphines',\n",
       "       'South Korea', 'Australia', 'Newzealand', 'Bangladesh', 'France',\n",
       "       'Germany', 'Italy', 'Netherlands', 'Norway', 'Poland', 'Portugal',\n",
       "       'Spain', 'Sweden', 'Austria', 'United Kingdom', 'USA', 'Canada',\n",
       "       'Mexico', 'Brazil', 'China', 'Chile', 'Columbia'], dtype=object)"
      ]
     },
     "execution_count": 95,
     "metadata": {},
     "output_type": "execute_result"
    }
   ],
   "source": [
    "# Check unique values ​​in platform column\n",
    "dim_customers['market'].unique()"
   ]
  },
  {
   "cell_type": "code",
   "execution_count": 96,
   "metadata": {},
   "outputs": [
    {
     "data": {
      "text/plain": [
       "array(['India', 'ROA', 'ANZ', 'SE', 'NE', nan, 'LATAM'], dtype=object)"
      ]
     },
     "execution_count": 96,
     "metadata": {},
     "output_type": "execute_result"
    }
   ],
   "source": [
    "# Check unique values ​​in platform column\n",
    "dim_customers['sub_zone'].unique()"
   ]
  },
  {
   "cell_type": "code",
   "execution_count": 97,
   "metadata": {},
   "outputs": [
    {
     "data": {
      "text/plain": [
       "array(['APAC', 'EU', nan, 'LATAM'], dtype=object)"
      ]
     },
     "execution_count": 97,
     "metadata": {},
     "output_type": "execute_result"
    }
   ],
   "source": [
    "# Check unique values ​​in platform column\n",
    "dim_customers['region'].unique()"
   ]
  },
  {
   "cell_type": "markdown",
   "metadata": {},
   "source": [
    "#### Check null value in columns"
   ]
  },
  {
   "cell_type": "code",
   "execution_count": 98,
   "metadata": {},
   "outputs": [
    {
     "data": {
      "text/plain": [
       "customer_code     0\n",
       "customer          0\n",
       "platform          0\n",
       "channel           0\n",
       "market            0\n",
       "sub_zone         26\n",
       "region           26\n",
       "dtype: int64"
      ]
     },
     "execution_count": 98,
     "metadata": {},
     "output_type": "execute_result"
    }
   ],
   "source": [
    "# null value check\n",
    "dim_customers.isnull().sum()"
   ]
  },
  {
   "cell_type": "code",
   "execution_count": 99,
   "metadata": {},
   "outputs": [
    {
     "data": {
      "text/plain": [
       "customer_code     0.00\n",
       "customer          0.00\n",
       "platform          0.00\n",
       "channel           0.00\n",
       "market            0.00\n",
       "sub_zone         12.44\n",
       "region           12.44\n",
       "dtype: float64"
      ]
     },
     "execution_count": 99,
     "metadata": {},
     "output_type": "execute_result"
    }
   ],
   "source": [
    "# Gives % of null values for each column\n",
    "round(dim_customers.isnull().sum()*100/dim_customers.shape[0],2)"
   ]
  },
  {
   "cell_type": "code",
   "execution_count": 100,
   "metadata": {},
   "outputs": [
    {
     "data": {
      "text/html": [
       "<div>\n",
       "<style scoped>\n",
       "    .dataframe tbody tr th:only-of-type {\n",
       "        vertical-align: middle;\n",
       "    }\n",
       "\n",
       "    .dataframe tbody tr th {\n",
       "        vertical-align: top;\n",
       "    }\n",
       "\n",
       "    .dataframe thead th {\n",
       "        text-align: right;\n",
       "    }\n",
       "</style>\n",
       "<table border=\"1\" class=\"dataframe\">\n",
       "  <thead>\n",
       "    <tr style=\"text-align: right;\">\n",
       "      <th></th>\n",
       "      <th>customer_code</th>\n",
       "      <th>customer</th>\n",
       "      <th>platform</th>\n",
       "      <th>channel</th>\n",
       "      <th>market</th>\n",
       "      <th>sub_zone</th>\n",
       "      <th>region</th>\n",
       "    </tr>\n",
       "  </thead>\n",
       "  <tbody>\n",
       "    <tr>\n",
       "      <th>34</th>\n",
       "      <td>70022084</td>\n",
       "      <td>Atliq Exclusive</td>\n",
       "      <td>Brick &amp; Mortar</td>\n",
       "      <td>Direct</td>\n",
       "      <td>USA</td>\n",
       "      <td>NaN</td>\n",
       "      <td>NaN</td>\n",
       "    </tr>\n",
       "    <tr>\n",
       "      <th>35</th>\n",
       "      <td>70022085</td>\n",
       "      <td>Atliq e Store</td>\n",
       "      <td>E-Commerce</td>\n",
       "      <td>Direct</td>\n",
       "      <td>USA</td>\n",
       "      <td>NaN</td>\n",
       "      <td>NaN</td>\n",
       "    </tr>\n",
       "    <tr>\n",
       "      <th>36</th>\n",
       "      <td>70023031</td>\n",
       "      <td>Atliq Exclusive</td>\n",
       "      <td>Brick &amp; Mortar</td>\n",
       "      <td>Direct</td>\n",
       "      <td>Canada</td>\n",
       "      <td>NaN</td>\n",
       "      <td>NaN</td>\n",
       "    </tr>\n",
       "    <tr>\n",
       "      <th>37</th>\n",
       "      <td>70023032</td>\n",
       "      <td>Atliq e Store</td>\n",
       "      <td>E-Commerce</td>\n",
       "      <td>Direct</td>\n",
       "      <td>Canada</td>\n",
       "      <td>NaN</td>\n",
       "      <td>NaN</td>\n",
       "    </tr>\n",
       "    <tr>\n",
       "      <th>182</th>\n",
       "      <td>90022071</td>\n",
       "      <td>Acclaimed Stores</td>\n",
       "      <td>Brick &amp; Mortar</td>\n",
       "      <td>Retailer</td>\n",
       "      <td>USA</td>\n",
       "      <td>NaN</td>\n",
       "      <td>NaN</td>\n",
       "    </tr>\n",
       "    <tr>\n",
       "      <th>183</th>\n",
       "      <td>90022072</td>\n",
       "      <td>Path</td>\n",
       "      <td>Brick &amp; Mortar</td>\n",
       "      <td>Retailer</td>\n",
       "      <td>USA</td>\n",
       "      <td>NaN</td>\n",
       "      <td>NaN</td>\n",
       "    </tr>\n",
       "    <tr>\n",
       "      <th>184</th>\n",
       "      <td>90022073</td>\n",
       "      <td>Control</td>\n",
       "      <td>Brick &amp; Mortar</td>\n",
       "      <td>Retailer</td>\n",
       "      <td>USA</td>\n",
       "      <td>NaN</td>\n",
       "      <td>NaN</td>\n",
       "    </tr>\n",
       "    <tr>\n",
       "      <th>185</th>\n",
       "      <td>90022074</td>\n",
       "      <td>Flipkart</td>\n",
       "      <td>E-Commerce</td>\n",
       "      <td>Retailer</td>\n",
       "      <td>USA</td>\n",
       "      <td>NaN</td>\n",
       "      <td>NaN</td>\n",
       "    </tr>\n",
       "    <tr>\n",
       "      <th>186</th>\n",
       "      <td>90022075</td>\n",
       "      <td>BestBuy</td>\n",
       "      <td>Brick &amp; Mortar</td>\n",
       "      <td>Retailer</td>\n",
       "      <td>USA</td>\n",
       "      <td>NaN</td>\n",
       "      <td>NaN</td>\n",
       "    </tr>\n",
       "    <tr>\n",
       "      <th>187</th>\n",
       "      <td>90022076</td>\n",
       "      <td>Circuit City</td>\n",
       "      <td>Brick &amp; Mortar</td>\n",
       "      <td>Retailer</td>\n",
       "      <td>USA</td>\n",
       "      <td>NaN</td>\n",
       "      <td>NaN</td>\n",
       "    </tr>\n",
       "    <tr>\n",
       "      <th>188</th>\n",
       "      <td>90022077</td>\n",
       "      <td>Radio Shack</td>\n",
       "      <td>Brick &amp; Mortar</td>\n",
       "      <td>Retailer</td>\n",
       "      <td>USA</td>\n",
       "      <td>NaN</td>\n",
       "      <td>NaN</td>\n",
       "    </tr>\n",
       "    <tr>\n",
       "      <th>189</th>\n",
       "      <td>90022078</td>\n",
       "      <td>Costco</td>\n",
       "      <td>Brick &amp; Mortar</td>\n",
       "      <td>Retailer</td>\n",
       "      <td>USA</td>\n",
       "      <td>NaN</td>\n",
       "      <td>NaN</td>\n",
       "    </tr>\n",
       "    <tr>\n",
       "      <th>190</th>\n",
       "      <td>90022079</td>\n",
       "      <td>walmart</td>\n",
       "      <td>Brick &amp; Mortar</td>\n",
       "      <td>Retailer</td>\n",
       "      <td>USA</td>\n",
       "      <td>NaN</td>\n",
       "      <td>NaN</td>\n",
       "    </tr>\n",
       "    <tr>\n",
       "      <th>191</th>\n",
       "      <td>90022080</td>\n",
       "      <td>Staples</td>\n",
       "      <td>Brick &amp; Mortar</td>\n",
       "      <td>Retailer</td>\n",
       "      <td>USA</td>\n",
       "      <td>NaN</td>\n",
       "      <td>NaN</td>\n",
       "    </tr>\n",
       "    <tr>\n",
       "      <th>192</th>\n",
       "      <td>90022081</td>\n",
       "      <td>Amazon</td>\n",
       "      <td>E-Commerce</td>\n",
       "      <td>Retailer</td>\n",
       "      <td>USA</td>\n",
       "      <td>NaN</td>\n",
       "      <td>NaN</td>\n",
       "    </tr>\n",
       "    <tr>\n",
       "      <th>193</th>\n",
       "      <td>90022082</td>\n",
       "      <td>Amazon</td>\n",
       "      <td>E-Commerce</td>\n",
       "      <td>Retailer</td>\n",
       "      <td>USA</td>\n",
       "      <td>NaN</td>\n",
       "      <td>NaN</td>\n",
       "    </tr>\n",
       "    <tr>\n",
       "      <th>194</th>\n",
       "      <td>90022083</td>\n",
       "      <td>Ebay</td>\n",
       "      <td>E-Commerce</td>\n",
       "      <td>Retailer</td>\n",
       "      <td>USA</td>\n",
       "      <td>NaN</td>\n",
       "      <td>NaN</td>\n",
       "    </tr>\n",
       "    <tr>\n",
       "      <th>195</th>\n",
       "      <td>90023022</td>\n",
       "      <td>Nomad Stores</td>\n",
       "      <td>Brick &amp; Mortar</td>\n",
       "      <td>Retailer</td>\n",
       "      <td>Canada</td>\n",
       "      <td>NaN</td>\n",
       "      <td>NaN</td>\n",
       "    </tr>\n",
       "    <tr>\n",
       "      <th>196</th>\n",
       "      <td>90023023</td>\n",
       "      <td>Amazon</td>\n",
       "      <td>E-Commerce</td>\n",
       "      <td>Retailer</td>\n",
       "      <td>Canada</td>\n",
       "      <td>NaN</td>\n",
       "      <td>NaN</td>\n",
       "    </tr>\n",
       "    <tr>\n",
       "      <th>197</th>\n",
       "      <td>90023024</td>\n",
       "      <td>Sage</td>\n",
       "      <td>Brick &amp; Mortar</td>\n",
       "      <td>Retailer</td>\n",
       "      <td>Canada</td>\n",
       "      <td>NaN</td>\n",
       "      <td>NaN</td>\n",
       "    </tr>\n",
       "    <tr>\n",
       "      <th>198</th>\n",
       "      <td>90023025</td>\n",
       "      <td>Premium Stores</td>\n",
       "      <td>Brick &amp; Mortar</td>\n",
       "      <td>Retailer</td>\n",
       "      <td>Canada</td>\n",
       "      <td>NaN</td>\n",
       "      <td>NaN</td>\n",
       "    </tr>\n",
       "    <tr>\n",
       "      <th>199</th>\n",
       "      <td>90023026</td>\n",
       "      <td>Relief</td>\n",
       "      <td>Brick &amp; Mortar</td>\n",
       "      <td>Retailer</td>\n",
       "      <td>Canada</td>\n",
       "      <td>NaN</td>\n",
       "      <td>NaN</td>\n",
       "    </tr>\n",
       "    <tr>\n",
       "      <th>200</th>\n",
       "      <td>90023027</td>\n",
       "      <td>Costco</td>\n",
       "      <td>Brick &amp; Mortar</td>\n",
       "      <td>Retailer</td>\n",
       "      <td>Canada</td>\n",
       "      <td>NaN</td>\n",
       "      <td>NaN</td>\n",
       "    </tr>\n",
       "    <tr>\n",
       "      <th>201</th>\n",
       "      <td>90023028</td>\n",
       "      <td>walmart</td>\n",
       "      <td>Brick &amp; Mortar</td>\n",
       "      <td>Retailer</td>\n",
       "      <td>Canada</td>\n",
       "      <td>NaN</td>\n",
       "      <td>NaN</td>\n",
       "    </tr>\n",
       "    <tr>\n",
       "      <th>202</th>\n",
       "      <td>90023029</td>\n",
       "      <td>Staples</td>\n",
       "      <td>Brick &amp; Mortar</td>\n",
       "      <td>Retailer</td>\n",
       "      <td>Canada</td>\n",
       "      <td>NaN</td>\n",
       "      <td>NaN</td>\n",
       "    </tr>\n",
       "    <tr>\n",
       "      <th>203</th>\n",
       "      <td>90023030</td>\n",
       "      <td>Amazon</td>\n",
       "      <td>E-Commerce</td>\n",
       "      <td>Retailer</td>\n",
       "      <td>Canada</td>\n",
       "      <td>NaN</td>\n",
       "      <td>NaN</td>\n",
       "    </tr>\n",
       "  </tbody>\n",
       "</table>\n",
       "</div>"
      ],
      "text/plain": [
       "     customer_code          customer        platform   channel  market  \\\n",
       "34        70022084   Atliq Exclusive  Brick & Mortar    Direct     USA   \n",
       "35        70022085     Atliq e Store      E-Commerce    Direct     USA   \n",
       "36        70023031   Atliq Exclusive  Brick & Mortar    Direct  Canada   \n",
       "37        70023032     Atliq e Store      E-Commerce    Direct  Canada   \n",
       "182       90022071  Acclaimed Stores  Brick & Mortar  Retailer     USA   \n",
       "183       90022072              Path  Brick & Mortar  Retailer     USA   \n",
       "184       90022073           Control  Brick & Mortar  Retailer     USA   \n",
       "185       90022074          Flipkart      E-Commerce  Retailer     USA   \n",
       "186       90022075           BestBuy  Brick & Mortar  Retailer     USA   \n",
       "187       90022076      Circuit City  Brick & Mortar  Retailer     USA   \n",
       "188       90022077       Radio Shack  Brick & Mortar  Retailer     USA   \n",
       "189       90022078            Costco  Brick & Mortar  Retailer     USA   \n",
       "190       90022079           walmart  Brick & Mortar  Retailer     USA   \n",
       "191       90022080           Staples  Brick & Mortar  Retailer     USA   \n",
       "192       90022081            Amazon      E-Commerce  Retailer     USA   \n",
       "193       90022082           Amazon       E-Commerce  Retailer     USA   \n",
       "194       90022083              Ebay      E-Commerce  Retailer     USA   \n",
       "195       90023022      Nomad Stores  Brick & Mortar  Retailer  Canada   \n",
       "196       90023023            Amazon      E-Commerce  Retailer  Canada   \n",
       "197       90023024              Sage  Brick & Mortar  Retailer  Canada   \n",
       "198       90023025    Premium Stores  Brick & Mortar  Retailer  Canada   \n",
       "199       90023026            Relief  Brick & Mortar  Retailer  Canada   \n",
       "200       90023027            Costco  Brick & Mortar  Retailer  Canada   \n",
       "201       90023028           walmart  Brick & Mortar  Retailer  Canada   \n",
       "202       90023029           Staples  Brick & Mortar  Retailer  Canada   \n",
       "203       90023030           Amazon       E-Commerce  Retailer  Canada   \n",
       "\n",
       "    sub_zone region  \n",
       "34       NaN    NaN  \n",
       "35       NaN    NaN  \n",
       "36       NaN    NaN  \n",
       "37       NaN    NaN  \n",
       "182      NaN    NaN  \n",
       "183      NaN    NaN  \n",
       "184      NaN    NaN  \n",
       "185      NaN    NaN  \n",
       "186      NaN    NaN  \n",
       "187      NaN    NaN  \n",
       "188      NaN    NaN  \n",
       "189      NaN    NaN  \n",
       "190      NaN    NaN  \n",
       "191      NaN    NaN  \n",
       "192      NaN    NaN  \n",
       "193      NaN    NaN  \n",
       "194      NaN    NaN  \n",
       "195      NaN    NaN  \n",
       "196      NaN    NaN  \n",
       "197      NaN    NaN  \n",
       "198      NaN    NaN  \n",
       "199      NaN    NaN  \n",
       "200      NaN    NaN  \n",
       "201      NaN    NaN  \n",
       "202      NaN    NaN  \n",
       "203      NaN    NaN  "
      ]
     },
     "execution_count": 100,
     "metadata": {},
     "output_type": "execute_result"
    }
   ],
   "source": [
    "# Check null values in dim_customers df\n",
    "customers_null = dim_customers[\n",
    "    (dim_customers['sub_zone'].isnull()) &\n",
    "    (dim_customers['region'].isnull())\n",
    "].index.tolist()\n",
    "\n",
    "# Show rows with null values ​​in sub_zone and region\n",
    "dim_customers.loc[customers_null, ]"
   ]
  },
  {
   "cell_type": "code",
   "execution_count": 101,
   "metadata": {},
   "outputs": [
    {
     "data": {
      "text/html": [
       "<div>\n",
       "<style scoped>\n",
       "    .dataframe tbody tr th:only-of-type {\n",
       "        vertical-align: middle;\n",
       "    }\n",
       "\n",
       "    .dataframe tbody tr th {\n",
       "        vertical-align: top;\n",
       "    }\n",
       "\n",
       "    .dataframe thead th {\n",
       "        text-align: right;\n",
       "    }\n",
       "</style>\n",
       "<table border=\"1\" class=\"dataframe\">\n",
       "  <thead>\n",
       "    <tr style=\"text-align: right;\">\n",
       "      <th></th>\n",
       "      <th>customer_code</th>\n",
       "      <th>customer</th>\n",
       "      <th>platform</th>\n",
       "      <th>channel</th>\n",
       "      <th>market</th>\n",
       "      <th>sub_zone</th>\n",
       "      <th>region</th>\n",
       "    </tr>\n",
       "  </thead>\n",
       "  <tbody>\n",
       "    <tr>\n",
       "      <th>34</th>\n",
       "      <td>70022084</td>\n",
       "      <td>Atliq Exclusive</td>\n",
       "      <td>Brick &amp; Mortar</td>\n",
       "      <td>Direct</td>\n",
       "      <td>USA</td>\n",
       "      <td>NA</td>\n",
       "      <td>NA</td>\n",
       "    </tr>\n",
       "    <tr>\n",
       "      <th>35</th>\n",
       "      <td>70022085</td>\n",
       "      <td>Atliq e Store</td>\n",
       "      <td>E-Commerce</td>\n",
       "      <td>Direct</td>\n",
       "      <td>USA</td>\n",
       "      <td>NA</td>\n",
       "      <td>NA</td>\n",
       "    </tr>\n",
       "    <tr>\n",
       "      <th>36</th>\n",
       "      <td>70023031</td>\n",
       "      <td>Atliq Exclusive</td>\n",
       "      <td>Brick &amp; Mortar</td>\n",
       "      <td>Direct</td>\n",
       "      <td>Canada</td>\n",
       "      <td>NA</td>\n",
       "      <td>NA</td>\n",
       "    </tr>\n",
       "    <tr>\n",
       "      <th>37</th>\n",
       "      <td>70023032</td>\n",
       "      <td>Atliq e Store</td>\n",
       "      <td>E-Commerce</td>\n",
       "      <td>Direct</td>\n",
       "      <td>Canada</td>\n",
       "      <td>NA</td>\n",
       "      <td>NA</td>\n",
       "    </tr>\n",
       "    <tr>\n",
       "      <th>182</th>\n",
       "      <td>90022071</td>\n",
       "      <td>Acclaimed Stores</td>\n",
       "      <td>Brick &amp; Mortar</td>\n",
       "      <td>Retailer</td>\n",
       "      <td>USA</td>\n",
       "      <td>NA</td>\n",
       "      <td>NA</td>\n",
       "    </tr>\n",
       "    <tr>\n",
       "      <th>183</th>\n",
       "      <td>90022072</td>\n",
       "      <td>Path</td>\n",
       "      <td>Brick &amp; Mortar</td>\n",
       "      <td>Retailer</td>\n",
       "      <td>USA</td>\n",
       "      <td>NA</td>\n",
       "      <td>NA</td>\n",
       "    </tr>\n",
       "    <tr>\n",
       "      <th>184</th>\n",
       "      <td>90022073</td>\n",
       "      <td>Control</td>\n",
       "      <td>Brick &amp; Mortar</td>\n",
       "      <td>Retailer</td>\n",
       "      <td>USA</td>\n",
       "      <td>NA</td>\n",
       "      <td>NA</td>\n",
       "    </tr>\n",
       "    <tr>\n",
       "      <th>185</th>\n",
       "      <td>90022074</td>\n",
       "      <td>Flipkart</td>\n",
       "      <td>E-Commerce</td>\n",
       "      <td>Retailer</td>\n",
       "      <td>USA</td>\n",
       "      <td>NA</td>\n",
       "      <td>NA</td>\n",
       "    </tr>\n",
       "    <tr>\n",
       "      <th>186</th>\n",
       "      <td>90022075</td>\n",
       "      <td>BestBuy</td>\n",
       "      <td>Brick &amp; Mortar</td>\n",
       "      <td>Retailer</td>\n",
       "      <td>USA</td>\n",
       "      <td>NA</td>\n",
       "      <td>NA</td>\n",
       "    </tr>\n",
       "    <tr>\n",
       "      <th>187</th>\n",
       "      <td>90022076</td>\n",
       "      <td>Circuit City</td>\n",
       "      <td>Brick &amp; Mortar</td>\n",
       "      <td>Retailer</td>\n",
       "      <td>USA</td>\n",
       "      <td>NA</td>\n",
       "      <td>NA</td>\n",
       "    </tr>\n",
       "    <tr>\n",
       "      <th>188</th>\n",
       "      <td>90022077</td>\n",
       "      <td>Radio Shack</td>\n",
       "      <td>Brick &amp; Mortar</td>\n",
       "      <td>Retailer</td>\n",
       "      <td>USA</td>\n",
       "      <td>NA</td>\n",
       "      <td>NA</td>\n",
       "    </tr>\n",
       "    <tr>\n",
       "      <th>189</th>\n",
       "      <td>90022078</td>\n",
       "      <td>Costco</td>\n",
       "      <td>Brick &amp; Mortar</td>\n",
       "      <td>Retailer</td>\n",
       "      <td>USA</td>\n",
       "      <td>NA</td>\n",
       "      <td>NA</td>\n",
       "    </tr>\n",
       "    <tr>\n",
       "      <th>190</th>\n",
       "      <td>90022079</td>\n",
       "      <td>walmart</td>\n",
       "      <td>Brick &amp; Mortar</td>\n",
       "      <td>Retailer</td>\n",
       "      <td>USA</td>\n",
       "      <td>NA</td>\n",
       "      <td>NA</td>\n",
       "    </tr>\n",
       "    <tr>\n",
       "      <th>191</th>\n",
       "      <td>90022080</td>\n",
       "      <td>Staples</td>\n",
       "      <td>Brick &amp; Mortar</td>\n",
       "      <td>Retailer</td>\n",
       "      <td>USA</td>\n",
       "      <td>NA</td>\n",
       "      <td>NA</td>\n",
       "    </tr>\n",
       "    <tr>\n",
       "      <th>192</th>\n",
       "      <td>90022081</td>\n",
       "      <td>Amazon</td>\n",
       "      <td>E-Commerce</td>\n",
       "      <td>Retailer</td>\n",
       "      <td>USA</td>\n",
       "      <td>NA</td>\n",
       "      <td>NA</td>\n",
       "    </tr>\n",
       "    <tr>\n",
       "      <th>193</th>\n",
       "      <td>90022082</td>\n",
       "      <td>Amazon</td>\n",
       "      <td>E-Commerce</td>\n",
       "      <td>Retailer</td>\n",
       "      <td>USA</td>\n",
       "      <td>NA</td>\n",
       "      <td>NA</td>\n",
       "    </tr>\n",
       "    <tr>\n",
       "      <th>194</th>\n",
       "      <td>90022083</td>\n",
       "      <td>Ebay</td>\n",
       "      <td>E-Commerce</td>\n",
       "      <td>Retailer</td>\n",
       "      <td>USA</td>\n",
       "      <td>NA</td>\n",
       "      <td>NA</td>\n",
       "    </tr>\n",
       "    <tr>\n",
       "      <th>195</th>\n",
       "      <td>90023022</td>\n",
       "      <td>Nomad Stores</td>\n",
       "      <td>Brick &amp; Mortar</td>\n",
       "      <td>Retailer</td>\n",
       "      <td>Canada</td>\n",
       "      <td>NA</td>\n",
       "      <td>NA</td>\n",
       "    </tr>\n",
       "    <tr>\n",
       "      <th>196</th>\n",
       "      <td>90023023</td>\n",
       "      <td>Amazon</td>\n",
       "      <td>E-Commerce</td>\n",
       "      <td>Retailer</td>\n",
       "      <td>Canada</td>\n",
       "      <td>NA</td>\n",
       "      <td>NA</td>\n",
       "    </tr>\n",
       "    <tr>\n",
       "      <th>197</th>\n",
       "      <td>90023024</td>\n",
       "      <td>Sage</td>\n",
       "      <td>Brick &amp; Mortar</td>\n",
       "      <td>Retailer</td>\n",
       "      <td>Canada</td>\n",
       "      <td>NA</td>\n",
       "      <td>NA</td>\n",
       "    </tr>\n",
       "    <tr>\n",
       "      <th>198</th>\n",
       "      <td>90023025</td>\n",
       "      <td>Premium Stores</td>\n",
       "      <td>Brick &amp; Mortar</td>\n",
       "      <td>Retailer</td>\n",
       "      <td>Canada</td>\n",
       "      <td>NA</td>\n",
       "      <td>NA</td>\n",
       "    </tr>\n",
       "    <tr>\n",
       "      <th>199</th>\n",
       "      <td>90023026</td>\n",
       "      <td>Relief</td>\n",
       "      <td>Brick &amp; Mortar</td>\n",
       "      <td>Retailer</td>\n",
       "      <td>Canada</td>\n",
       "      <td>NA</td>\n",
       "      <td>NA</td>\n",
       "    </tr>\n",
       "    <tr>\n",
       "      <th>200</th>\n",
       "      <td>90023027</td>\n",
       "      <td>Costco</td>\n",
       "      <td>Brick &amp; Mortar</td>\n",
       "      <td>Retailer</td>\n",
       "      <td>Canada</td>\n",
       "      <td>NA</td>\n",
       "      <td>NA</td>\n",
       "    </tr>\n",
       "    <tr>\n",
       "      <th>201</th>\n",
       "      <td>90023028</td>\n",
       "      <td>walmart</td>\n",
       "      <td>Brick &amp; Mortar</td>\n",
       "      <td>Retailer</td>\n",
       "      <td>Canada</td>\n",
       "      <td>NA</td>\n",
       "      <td>NA</td>\n",
       "    </tr>\n",
       "    <tr>\n",
       "      <th>202</th>\n",
       "      <td>90023029</td>\n",
       "      <td>Staples</td>\n",
       "      <td>Brick &amp; Mortar</td>\n",
       "      <td>Retailer</td>\n",
       "      <td>Canada</td>\n",
       "      <td>NA</td>\n",
       "      <td>NA</td>\n",
       "    </tr>\n",
       "    <tr>\n",
       "      <th>203</th>\n",
       "      <td>90023030</td>\n",
       "      <td>Amazon</td>\n",
       "      <td>E-Commerce</td>\n",
       "      <td>Retailer</td>\n",
       "      <td>Canada</td>\n",
       "      <td>NA</td>\n",
       "      <td>NA</td>\n",
       "    </tr>\n",
       "  </tbody>\n",
       "</table>\n",
       "</div>"
      ],
      "text/plain": [
       "     customer_code          customer        platform   channel  market  \\\n",
       "34        70022084   Atliq Exclusive  Brick & Mortar    Direct     USA   \n",
       "35        70022085     Atliq e Store      E-Commerce    Direct     USA   \n",
       "36        70023031   Atliq Exclusive  Brick & Mortar    Direct  Canada   \n",
       "37        70023032     Atliq e Store      E-Commerce    Direct  Canada   \n",
       "182       90022071  Acclaimed Stores  Brick & Mortar  Retailer     USA   \n",
       "183       90022072              Path  Brick & Mortar  Retailer     USA   \n",
       "184       90022073           Control  Brick & Mortar  Retailer     USA   \n",
       "185       90022074          Flipkart      E-Commerce  Retailer     USA   \n",
       "186       90022075           BestBuy  Brick & Mortar  Retailer     USA   \n",
       "187       90022076      Circuit City  Brick & Mortar  Retailer     USA   \n",
       "188       90022077       Radio Shack  Brick & Mortar  Retailer     USA   \n",
       "189       90022078            Costco  Brick & Mortar  Retailer     USA   \n",
       "190       90022079           walmart  Brick & Mortar  Retailer     USA   \n",
       "191       90022080           Staples  Brick & Mortar  Retailer     USA   \n",
       "192       90022081            Amazon      E-Commerce  Retailer     USA   \n",
       "193       90022082           Amazon       E-Commerce  Retailer     USA   \n",
       "194       90022083              Ebay      E-Commerce  Retailer     USA   \n",
       "195       90023022      Nomad Stores  Brick & Mortar  Retailer  Canada   \n",
       "196       90023023            Amazon      E-Commerce  Retailer  Canada   \n",
       "197       90023024              Sage  Brick & Mortar  Retailer  Canada   \n",
       "198       90023025    Premium Stores  Brick & Mortar  Retailer  Canada   \n",
       "199       90023026            Relief  Brick & Mortar  Retailer  Canada   \n",
       "200       90023027            Costco  Brick & Mortar  Retailer  Canada   \n",
       "201       90023028           walmart  Brick & Mortar  Retailer  Canada   \n",
       "202       90023029           Staples  Brick & Mortar  Retailer  Canada   \n",
       "203       90023030           Amazon       E-Commerce  Retailer  Canada   \n",
       "\n",
       "    sub_zone region  \n",
       "34        NA     NA  \n",
       "35        NA     NA  \n",
       "36        NA     NA  \n",
       "37        NA     NA  \n",
       "182       NA     NA  \n",
       "183       NA     NA  \n",
       "184       NA     NA  \n",
       "185       NA     NA  \n",
       "186       NA     NA  \n",
       "187       NA     NA  \n",
       "188       NA     NA  \n",
       "189       NA     NA  \n",
       "190       NA     NA  \n",
       "191       NA     NA  \n",
       "192       NA     NA  \n",
       "193       NA     NA  \n",
       "194       NA     NA  \n",
       "195       NA     NA  \n",
       "196       NA     NA  \n",
       "197       NA     NA  \n",
       "198       NA     NA  \n",
       "199       NA     NA  \n",
       "200       NA     NA  \n",
       "201       NA     NA  \n",
       "202       NA     NA  \n",
       "203       NA     NA  "
      ]
     },
     "execution_count": 101,
     "metadata": {},
     "output_type": "execute_result"
    }
   ],
   "source": [
    "# Create the list contain market values\n",
    "market_in_NA = ['USA', 'Canada']\n",
    "\n",
    "for index, row in dim_customers.iterrows():\n",
    "    if row['market'] in market_in_NA and pd.isnull(row['region']) and pd.isnull(row['sub_zone']):\n",
    "        dim_customers.at[index, 'region'] = 'NA'\n",
    "        dim_customers.at[index, 'sub_zone'] = 'NA'\n",
    "\n",
    "# Show rows with null values ​​in sub_zone and region\n",
    "dim_customers.loc[customers_null, ]"
   ]
  },
  {
   "cell_type": "markdown",
   "metadata": {},
   "source": [
    "### Product Data\n",
    "Column Description for dim_product table:\n",
    "1. product_code: The 'product_code' column features unique identification codes for each product, serving as a means to track and distinguish individual products within a database or system.\n",
    "\n",
    "2. division: The 'division' column categorizes products into groups such as \"P & A\" (Peripherals and Accessories), \"N & S\" (Network and Storage) and \"PC\" (Personal Computer).\n",
    "\n",
    "3. segment: The 'segment' column categorizes products further within the division, such as \"Peripherals\" (keyboard, mouse, monitor, etc.), \"Accessories\" (cases, cooling solutions, power supplies), \"Notebook\" (laptops), \"Desktop\" (desktops, all-in-one PCs, etc), \"Storage\" (hard disks, SSDs, external storage), and \"Networking\" (routers, switches, modems, etc.).\n",
    "\n",
    "4. category: The 'category' column classifies products into specific subcategories within the segment.\n",
    "\n",
    "5. product: The 'product' column lists the names of individual products, corresponding to the unique identification codes found in the 'product_code' column.\n",
    "\n",
    "6. variant: The \"variant\" column classifies products according to their features, prices, and other characteristics. The column includes variants such as \"Standard\", \"Plus\", \"Premium\" that represent different versions of the same product."
   ]
  },
  {
   "cell_type": "code",
   "execution_count": 102,
   "metadata": {},
   "outputs": [
    {
     "data": {
      "text/html": [
       "<div>\n",
       "<style scoped>\n",
       "    .dataframe tbody tr th:only-of-type {\n",
       "        vertical-align: middle;\n",
       "    }\n",
       "\n",
       "    .dataframe tbody tr th {\n",
       "        vertical-align: top;\n",
       "    }\n",
       "\n",
       "    .dataframe thead th {\n",
       "        text-align: right;\n",
       "    }\n",
       "</style>\n",
       "<table border=\"1\" class=\"dataframe\">\n",
       "  <thead>\n",
       "    <tr style=\"text-align: right;\">\n",
       "      <th></th>\n",
       "      <th>product_code</th>\n",
       "      <th>division</th>\n",
       "      <th>segment</th>\n",
       "      <th>category</th>\n",
       "      <th>product</th>\n",
       "      <th>variant</th>\n",
       "    </tr>\n",
       "  </thead>\n",
       "  <tbody>\n",
       "    <tr>\n",
       "      <th>0</th>\n",
       "      <td>A0118150101</td>\n",
       "      <td>P &amp; A</td>\n",
       "      <td>Peripherals</td>\n",
       "      <td>Internal HDD</td>\n",
       "      <td>AQ Dracula HDD  3.5 Inch SATA 6 Gb/s 5400 RPM...</td>\n",
       "      <td>Standard</td>\n",
       "    </tr>\n",
       "    <tr>\n",
       "      <th>1</th>\n",
       "      <td>A0118150102</td>\n",
       "      <td>P &amp; A</td>\n",
       "      <td>Peripherals</td>\n",
       "      <td>Internal HDD</td>\n",
       "      <td>AQ Dracula HDD  3.5 Inch SATA 6 Gb/s 5400 RPM...</td>\n",
       "      <td>Plus</td>\n",
       "    </tr>\n",
       "    <tr>\n",
       "      <th>2</th>\n",
       "      <td>A0118150103</td>\n",
       "      <td>P &amp; A</td>\n",
       "      <td>Peripherals</td>\n",
       "      <td>Internal HDD</td>\n",
       "      <td>AQ Dracula HDD  3.5 Inch SATA 6 Gb/s 5400 RPM...</td>\n",
       "      <td>Premium</td>\n",
       "    </tr>\n",
       "    <tr>\n",
       "      <th>3</th>\n",
       "      <td>A0118150104</td>\n",
       "      <td>P &amp; A</td>\n",
       "      <td>Peripherals</td>\n",
       "      <td>Internal HDD</td>\n",
       "      <td>AQ Dracula HDD  3.5 Inch SATA 6 Gb/s 5400 RPM...</td>\n",
       "      <td>Premium Plus</td>\n",
       "    </tr>\n",
       "    <tr>\n",
       "      <th>4</th>\n",
       "      <td>A0219150201</td>\n",
       "      <td>P &amp; A</td>\n",
       "      <td>Peripherals</td>\n",
       "      <td>Internal HDD</td>\n",
       "      <td>AQ WereWolf NAS Internal Hard Drive HDD  8.89 cm</td>\n",
       "      <td>Standard</td>\n",
       "    </tr>\n",
       "  </tbody>\n",
       "</table>\n",
       "</div>"
      ],
      "text/plain": [
       "  product_code division      segment      category  \\\n",
       "0  A0118150101    P & A  Peripherals  Internal HDD   \n",
       "1  A0118150102    P & A  Peripherals  Internal HDD   \n",
       "2  A0118150103    P & A  Peripherals  Internal HDD   \n",
       "3  A0118150104    P & A  Peripherals  Internal HDD   \n",
       "4  A0219150201    P & A  Peripherals  Internal HDD   \n",
       "\n",
       "                                             product       variant  \n",
       "0  AQ Dracula HDD  3.5 Inch SATA 6 Gb/s 5400 RPM...      Standard  \n",
       "1  AQ Dracula HDD  3.5 Inch SATA 6 Gb/s 5400 RPM...          Plus  \n",
       "2  AQ Dracula HDD  3.5 Inch SATA 6 Gb/s 5400 RPM...       Premium  \n",
       "3  AQ Dracula HDD  3.5 Inch SATA 6 Gb/s 5400 RPM...  Premium Plus  \n",
       "4  AQ WereWolf NAS Internal Hard Drive HDD  8.89 cm      Standard  "
      ]
     },
     "execution_count": 102,
     "metadata": {},
     "output_type": "execute_result"
    }
   ],
   "source": [
    "# top records\n",
    "dim_products.head()"
   ]
  },
  {
   "cell_type": "code",
   "execution_count": 103,
   "metadata": {},
   "outputs": [
    {
     "data": {
      "text/html": [
       "<div>\n",
       "<style scoped>\n",
       "    .dataframe tbody tr th:only-of-type {\n",
       "        vertical-align: middle;\n",
       "    }\n",
       "\n",
       "    .dataframe tbody tr th {\n",
       "        vertical-align: top;\n",
       "    }\n",
       "\n",
       "    .dataframe thead th {\n",
       "        text-align: right;\n",
       "    }\n",
       "</style>\n",
       "<table border=\"1\" class=\"dataframe\">\n",
       "  <thead>\n",
       "    <tr style=\"text-align: right;\">\n",
       "      <th></th>\n",
       "      <th>product_code</th>\n",
       "      <th>division</th>\n",
       "      <th>segment</th>\n",
       "      <th>category</th>\n",
       "      <th>product</th>\n",
       "      <th>variant</th>\n",
       "    </tr>\n",
       "  </thead>\n",
       "  <tbody>\n",
       "    <tr>\n",
       "      <th>392</th>\n",
       "      <td>A7220160202</td>\n",
       "      <td>N &amp; S</td>\n",
       "      <td>Networking</td>\n",
       "      <td>Wi fi extender</td>\n",
       "      <td>AQ Wi Power Dx2</td>\n",
       "      <td>Plus</td>\n",
       "    </tr>\n",
       "    <tr>\n",
       "      <th>393</th>\n",
       "      <td>A7220160203</td>\n",
       "      <td>N &amp; S</td>\n",
       "      <td>Networking</td>\n",
       "      <td>Wi fi extender</td>\n",
       "      <td>AQ Wi Power Dx2</td>\n",
       "      <td>Premium</td>\n",
       "    </tr>\n",
       "    <tr>\n",
       "      <th>394</th>\n",
       "      <td>A7321160301</td>\n",
       "      <td>N &amp; S</td>\n",
       "      <td>Networking</td>\n",
       "      <td>Wi fi extender</td>\n",
       "      <td>AQ Wi Power Dx3</td>\n",
       "      <td>Standard</td>\n",
       "    </tr>\n",
       "    <tr>\n",
       "      <th>395</th>\n",
       "      <td>A7321160302</td>\n",
       "      <td>N &amp; S</td>\n",
       "      <td>Networking</td>\n",
       "      <td>Wi fi extender</td>\n",
       "      <td>AQ Wi Power Dx3</td>\n",
       "      <td>Plus</td>\n",
       "    </tr>\n",
       "    <tr>\n",
       "      <th>396</th>\n",
       "      <td>A7321160303</td>\n",
       "      <td>N &amp; S</td>\n",
       "      <td>Networking</td>\n",
       "      <td>Wi fi extender</td>\n",
       "      <td>AQ Wi Power Dx3</td>\n",
       "      <td>Premium</td>\n",
       "    </tr>\n",
       "  </tbody>\n",
       "</table>\n",
       "</div>"
      ],
      "text/plain": [
       "    product_code division     segment        category          product  \\\n",
       "392  A7220160202    N & S  Networking  Wi fi extender  AQ Wi Power Dx2   \n",
       "393  A7220160203    N & S  Networking  Wi fi extender  AQ Wi Power Dx2   \n",
       "394  A7321160301    N & S  Networking  Wi fi extender  AQ Wi Power Dx3   \n",
       "395  A7321160302    N & S  Networking  Wi fi extender  AQ Wi Power Dx3   \n",
       "396  A7321160303    N & S  Networking  Wi fi extender  AQ Wi Power Dx3   \n",
       "\n",
       "      variant  \n",
       "392      Plus  \n",
       "393   Premium  \n",
       "394  Standard  \n",
       "395      Plus  \n",
       "396   Premium  "
      ]
     },
     "execution_count": 103,
     "metadata": {},
     "output_type": "execute_result"
    }
   ],
   "source": [
    "# last records\n",
    "dim_products.tail()"
   ]
  },
  {
   "cell_type": "code",
   "execution_count": 104,
   "metadata": {},
   "outputs": [
    {
     "name": "stdout",
     "output_type": "stream",
     "text": [
      "Shape of the Products Data (397, 6)\n"
     ]
    }
   ],
   "source": [
    "# check data shape\n",
    "print(f\"Shape of the Products Data {dim_products.shape}\")"
   ]
  },
  {
   "cell_type": "code",
   "execution_count": 105,
   "metadata": {},
   "outputs": [
    {
     "name": "stdout",
     "output_type": "stream",
     "text": [
      "<class 'pandas.core.frame.DataFrame'>\n",
      "RangeIndex: 397 entries, 0 to 396\n",
      "Data columns (total 6 columns):\n",
      " #   Column        Non-Null Count  Dtype \n",
      "---  ------        --------------  ----- \n",
      " 0   product_code  397 non-null    object\n",
      " 1   division      397 non-null    object\n",
      " 2   segment       397 non-null    object\n",
      " 3   category      397 non-null    object\n",
      " 4   product       397 non-null    object\n",
      " 5   variant       397 non-null    object\n",
      "dtypes: object(6)\n",
      "memory usage: 18.7+ KB\n"
     ]
    }
   ],
   "source": [
    "# check the data type of all column and non values present in each\n",
    "dim_products.info()"
   ]
  },
  {
   "cell_type": "code",
   "execution_count": 106,
   "metadata": {},
   "outputs": [
    {
     "data": {
      "text/html": [
       "<div>\n",
       "<style scoped>\n",
       "    .dataframe tbody tr th:only-of-type {\n",
       "        vertical-align: middle;\n",
       "    }\n",
       "\n",
       "    .dataframe tbody tr th {\n",
       "        vertical-align: top;\n",
       "    }\n",
       "\n",
       "    .dataframe thead th {\n",
       "        text-align: right;\n",
       "    }\n",
       "</style>\n",
       "<table border=\"1\" class=\"dataframe\">\n",
       "  <thead>\n",
       "    <tr style=\"text-align: right;\">\n",
       "      <th></th>\n",
       "      <th>product_code</th>\n",
       "      <th>division</th>\n",
       "      <th>segment</th>\n",
       "      <th>category</th>\n",
       "      <th>product</th>\n",
       "      <th>variant</th>\n",
       "    </tr>\n",
       "  </thead>\n",
       "  <tbody>\n",
       "  </tbody>\n",
       "</table>\n",
       "</div>"
      ],
      "text/plain": [
       "Empty DataFrame\n",
       "Columns: [product_code, division, segment, category, product, variant]\n",
       "Index: []"
      ]
     },
     "execution_count": 106,
     "metadata": {},
     "output_type": "execute_result"
    }
   ],
   "source": [
    "# duplication check\n",
    "dim_products[dim_products.duplicated()]"
   ]
  },
  {
   "cell_type": "code",
   "execution_count": 107,
   "metadata": {},
   "outputs": [
    {
     "data": {
      "text/plain": [
       "product_code    397\n",
       "division          3\n",
       "segment           6\n",
       "category         14\n",
       "product          73\n",
       "variant          27\n",
       "dtype: int64"
      ]
     },
     "execution_count": 107,
     "metadata": {},
     "output_type": "execute_result"
    }
   ],
   "source": [
    "# number unique value in each column\n",
    "dim_products.nunique()"
   ]
  },
  {
   "cell_type": "markdown",
   "metadata": {},
   "source": [
    "#### Check unique value in columns"
   ]
  },
  {
   "cell_type": "code",
   "execution_count": 108,
   "metadata": {},
   "outputs": [
    {
     "data": {
      "text/plain": [
       "array(['P & A', 'PC', 'N & S'], dtype=object)"
      ]
     },
     "execution_count": 108,
     "metadata": {},
     "output_type": "execute_result"
    }
   ],
   "source": [
    "# Check unique values in division column\n",
    "dim_products['division'].unique()"
   ]
  },
  {
   "cell_type": "code",
   "execution_count": 109,
   "metadata": {},
   "outputs": [
    {
     "data": {
      "text/plain": [
       "array(['Peripherals', 'Accessories', 'Notebook', 'Desktop', 'Storage',\n",
       "       'Networking'], dtype=object)"
      ]
     },
     "execution_count": 109,
     "metadata": {},
     "output_type": "execute_result"
    }
   ],
   "source": [
    "# Check unique values in segment column\n",
    "dim_products['segment'].unique()"
   ]
  },
  {
   "cell_type": "code",
   "execution_count": 110,
   "metadata": {},
   "outputs": [
    {
     "data": {
      "text/plain": [
       "array(['Internal HDD', 'Graphic Card', 'Processors', 'MotherBoard',\n",
       "       'Mouse', 'Keyboard', 'Batteries', 'Personal Laptop',\n",
       "       'Business Laptop', 'Gaming Laptop', 'Personal Desktop',\n",
       "       'External Solid State Drives', 'USB Flash Drives',\n",
       "       'Wi fi extender'], dtype=object)"
      ]
     },
     "execution_count": 110,
     "metadata": {},
     "output_type": "execute_result"
    }
   ],
   "source": [
    "# Check unique values in division column\n",
    "dim_products['category'].unique()"
   ]
  },
  {
   "cell_type": "code",
   "execution_count": 111,
   "metadata": {},
   "outputs": [
    {
     "data": {
      "text/plain": [
       "array(['Standard', 'Plus', 'Premium', 'Premium Plus', 'Standard 1',\n",
       "       'Standard 2', 'Standard 3', 'Plus 1', 'Plus 2', 'Plus 3',\n",
       "       'Premium 1', 'Premium 2', 'Plus 1 ', 'Standard Grey',\n",
       "       'Standard Blue', 'Standard Red', 'Plus Grey', 'Plus Blue',\n",
       "       'Plus Red', 'Premium Black', 'Premium Misty Green',\n",
       "       'Standard Firey Red', 'Standard Cool Blue', 'Standard Black',\n",
       "       'Plus Firey Red', 'Plus Cool Blue', 'Plus Black'], dtype=object)"
      ]
     },
     "execution_count": 111,
     "metadata": {},
     "output_type": "execute_result"
    }
   ],
   "source": [
    "# Check unique values in variant column\n",
    "dim_products['variant'].unique()"
   ]
  },
  {
   "cell_type": "markdown",
   "metadata": {},
   "source": [
    "### Gross Price Data\n",
    "Column Description for fact_gross_price table:\n",
    "1. product_code: The 'product_code' column features unique identification codes for each product.\n",
    "\n",
    "2. fiscal_year: The 'fiscal_year' column contains the fiscal period in which the product sale was recorded. A fiscal year is a 12-month period that is used for accounting purposes and often differs from the calendar year. For Atliq Hardware, the fiscal year starts in September. The data available in this column covers the fiscal years 2020 and 2021.\n",
    "\n",
    "3. gross_price: The 'gross_price' column holds the initial price of a product, prior to any reductions or taxes. It is the original selling price of the product."
   ]
  },
  {
   "cell_type": "code",
   "execution_count": 112,
   "metadata": {},
   "outputs": [
    {
     "data": {
      "text/html": [
       "<div>\n",
       "<style scoped>\n",
       "    .dataframe tbody tr th:only-of-type {\n",
       "        vertical-align: middle;\n",
       "    }\n",
       "\n",
       "    .dataframe tbody tr th {\n",
       "        vertical-align: top;\n",
       "    }\n",
       "\n",
       "    .dataframe thead th {\n",
       "        text-align: right;\n",
       "    }\n",
       "</style>\n",
       "<table border=\"1\" class=\"dataframe\">\n",
       "  <thead>\n",
       "    <tr style=\"text-align: right;\">\n",
       "      <th></th>\n",
       "      <th>product_code</th>\n",
       "      <th>fiscal_year</th>\n",
       "      <th>gross_price</th>\n",
       "    </tr>\n",
       "  </thead>\n",
       "  <tbody>\n",
       "    <tr>\n",
       "      <th>0</th>\n",
       "      <td>A0118150101</td>\n",
       "      <td>2020</td>\n",
       "      <td>16.2323</td>\n",
       "    </tr>\n",
       "    <tr>\n",
       "      <th>1</th>\n",
       "      <td>A0118150101</td>\n",
       "      <td>2021</td>\n",
       "      <td>19.0573</td>\n",
       "    </tr>\n",
       "    <tr>\n",
       "      <th>2</th>\n",
       "      <td>A0118150102</td>\n",
       "      <td>2020</td>\n",
       "      <td>19.8577</td>\n",
       "    </tr>\n",
       "    <tr>\n",
       "      <th>3</th>\n",
       "      <td>A0118150102</td>\n",
       "      <td>2021</td>\n",
       "      <td>21.4565</td>\n",
       "    </tr>\n",
       "    <tr>\n",
       "      <th>4</th>\n",
       "      <td>A0118150103</td>\n",
       "      <td>2020</td>\n",
       "      <td>22.1317</td>\n",
       "    </tr>\n",
       "  </tbody>\n",
       "</table>\n",
       "</div>"
      ],
      "text/plain": [
       "  product_code  fiscal_year  gross_price\n",
       "0  A0118150101         2020      16.2323\n",
       "1  A0118150101         2021      19.0573\n",
       "2  A0118150102         2020      19.8577\n",
       "3  A0118150102         2021      21.4565\n",
       "4  A0118150103         2020      22.1317"
      ]
     },
     "execution_count": 112,
     "metadata": {},
     "output_type": "execute_result"
    }
   ],
   "source": [
    "# top records\n",
    "fact_gross_price.head()"
   ]
  },
  {
   "cell_type": "code",
   "execution_count": 113,
   "metadata": {},
   "outputs": [
    {
     "data": {
      "text/html": [
       "<div>\n",
       "<style scoped>\n",
       "    .dataframe tbody tr th:only-of-type {\n",
       "        vertical-align: middle;\n",
       "    }\n",
       "\n",
       "    .dataframe tbody tr th {\n",
       "        vertical-align: top;\n",
       "    }\n",
       "\n",
       "    .dataframe thead th {\n",
       "        text-align: right;\n",
       "    }\n",
       "</style>\n",
       "<table border=\"1\" class=\"dataframe\">\n",
       "  <thead>\n",
       "    <tr style=\"text-align: right;\">\n",
       "      <th></th>\n",
       "      <th>product_code</th>\n",
       "      <th>fiscal_year</th>\n",
       "      <th>gross_price</th>\n",
       "    </tr>\n",
       "  </thead>\n",
       "  <tbody>\n",
       "    <tr>\n",
       "      <th>574</th>\n",
       "      <td>A7220160203</td>\n",
       "      <td>2020</td>\n",
       "      <td>37.9161</td>\n",
       "    </tr>\n",
       "    <tr>\n",
       "      <th>575</th>\n",
       "      <td>A7220160203</td>\n",
       "      <td>2021</td>\n",
       "      <td>37.4784</td>\n",
       "    </tr>\n",
       "    <tr>\n",
       "      <th>576</th>\n",
       "      <td>A7321160301</td>\n",
       "      <td>2021</td>\n",
       "      <td>40.7954</td>\n",
       "    </tr>\n",
       "    <tr>\n",
       "      <th>577</th>\n",
       "      <td>A7321160302</td>\n",
       "      <td>2021</td>\n",
       "      <td>43.9446</td>\n",
       "    </tr>\n",
       "    <tr>\n",
       "      <th>578</th>\n",
       "      <td>A7321160303</td>\n",
       "      <td>2021</td>\n",
       "      <td>42.8483</td>\n",
       "    </tr>\n",
       "  </tbody>\n",
       "</table>\n",
       "</div>"
      ],
      "text/plain": [
       "    product_code  fiscal_year  gross_price\n",
       "574  A7220160203         2020      37.9161\n",
       "575  A7220160203         2021      37.4784\n",
       "576  A7321160301         2021      40.7954\n",
       "577  A7321160302         2021      43.9446\n",
       "578  A7321160303         2021      42.8483"
      ]
     },
     "execution_count": 113,
     "metadata": {},
     "output_type": "execute_result"
    }
   ],
   "source": [
    "# last records\n",
    "fact_gross_price.tail()"
   ]
  },
  {
   "cell_type": "code",
   "execution_count": 114,
   "metadata": {},
   "outputs": [
    {
     "name": "stdout",
     "output_type": "stream",
     "text": [
      "Shape of the Gross Price Data (579, 3)\n"
     ]
    }
   ],
   "source": [
    "# Check data shape\n",
    "print(f\"Shape of the Gross Price Data {fact_gross_price.shape}\")"
   ]
  },
  {
   "cell_type": "code",
   "execution_count": 115,
   "metadata": {},
   "outputs": [
    {
     "name": "stdout",
     "output_type": "stream",
     "text": [
      "<class 'pandas.core.frame.DataFrame'>\n",
      "RangeIndex: 579 entries, 0 to 578\n",
      "Data columns (total 3 columns):\n",
      " #   Column        Non-Null Count  Dtype  \n",
      "---  ------        --------------  -----  \n",
      " 0   product_code  579 non-null    object \n",
      " 1   fiscal_year   579 non-null    int64  \n",
      " 2   gross_price   579 non-null    float64\n",
      "dtypes: float64(1), int64(1), object(1)\n",
      "memory usage: 13.7+ KB\n"
     ]
    }
   ],
   "source": [
    "# check the data type of all column and non values present in each\n",
    "fact_gross_price.info()"
   ]
  },
  {
   "cell_type": "code",
   "execution_count": 116,
   "metadata": {},
   "outputs": [
    {
     "data": {
      "text/html": [
       "<div>\n",
       "<style scoped>\n",
       "    .dataframe tbody tr th:only-of-type {\n",
       "        vertical-align: middle;\n",
       "    }\n",
       "\n",
       "    .dataframe tbody tr th {\n",
       "        vertical-align: top;\n",
       "    }\n",
       "\n",
       "    .dataframe thead th {\n",
       "        text-align: right;\n",
       "    }\n",
       "</style>\n",
       "<table border=\"1\" class=\"dataframe\">\n",
       "  <thead>\n",
       "    <tr style=\"text-align: right;\">\n",
       "      <th></th>\n",
       "      <th>product_code</th>\n",
       "      <th>fiscal_year</th>\n",
       "      <th>gross_price</th>\n",
       "    </tr>\n",
       "  </thead>\n",
       "  <tbody>\n",
       "  </tbody>\n",
       "</table>\n",
       "</div>"
      ],
      "text/plain": [
       "Empty DataFrame\n",
       "Columns: [product_code, fiscal_year, gross_price]\n",
       "Index: []"
      ]
     },
     "execution_count": 116,
     "metadata": {},
     "output_type": "execute_result"
    }
   ],
   "source": [
    "# duplication check\n",
    "fact_gross_price[fact_gross_price.duplicated()]"
   ]
  },
  {
   "cell_type": "code",
   "execution_count": 117,
   "metadata": {},
   "outputs": [
    {
     "data": {
      "text/plain": [
       "product_code    347\n",
       "fiscal_year       2\n",
       "gross_price     579\n",
       "dtype: int64"
      ]
     },
     "execution_count": 117,
     "metadata": {},
     "output_type": "execute_result"
    }
   ],
   "source": [
    "# number unique value in each columns\n",
    "fact_gross_price.nunique()"
   ]
  },
  {
   "cell_type": "code",
   "execution_count": 118,
   "metadata": {},
   "outputs": [
    {
     "data": {
      "text/plain": [
       "array([2020, 2021], dtype=int64)"
      ]
     },
     "execution_count": 118,
     "metadata": {},
     "output_type": "execute_result"
    }
   ],
   "source": [
    "# check unique value in fiscal year column\n",
    "fact_gross_price['fiscal_year'].unique()"
   ]
  },
  {
   "cell_type": "code",
   "execution_count": 119,
   "metadata": {},
   "outputs": [
    {
     "data": {
      "text/plain": [
       "count    579.000000\n",
       "mean     206.053392\n",
       "std      244.846130\n",
       "min        2.916800\n",
       "25%       18.548400\n",
       "50%       35.133200\n",
       "75%      420.846950\n",
       "max      834.981200\n",
       "Name: gross_price, dtype: float64"
      ]
     },
     "execution_count": 119,
     "metadata": {},
     "output_type": "execute_result"
    }
   ],
   "source": [
    "# check numerical values in gross_price column\n",
    "fact_gross_price['gross_price'].describe()"
   ]
  },
  {
   "cell_type": "markdown",
   "metadata": {},
   "source": [
    "### Manufacturing Cost Data\n",
    "Column Description for fact_manufacturing_cost:\n",
    "1. product_code: The 'product_code' column features unique identification codes for each product\n",
    "\n",
    "2. cost_year: The \"cost_year\" column contains the fiscal year in which the product was manufactured.\n",
    "\n",
    "3. manufacturing_cost: The \"manufacturing_cost\" column contains the total cost incurred for the production of a product. This cost includes direct costs like raw materials, labor, and overhead expenses that are directly associated with the production process."
   ]
  },
  {
   "cell_type": "code",
   "execution_count": 120,
   "metadata": {},
   "outputs": [
    {
     "data": {
      "text/html": [
       "<div>\n",
       "<style scoped>\n",
       "    .dataframe tbody tr th:only-of-type {\n",
       "        vertical-align: middle;\n",
       "    }\n",
       "\n",
       "    .dataframe tbody tr th {\n",
       "        vertical-align: top;\n",
       "    }\n",
       "\n",
       "    .dataframe thead th {\n",
       "        text-align: right;\n",
       "    }\n",
       "</style>\n",
       "<table border=\"1\" class=\"dataframe\">\n",
       "  <thead>\n",
       "    <tr style=\"text-align: right;\">\n",
       "      <th></th>\n",
       "      <th>product_code</th>\n",
       "      <th>cost_year</th>\n",
       "      <th>manufacturing_cost</th>\n",
       "    </tr>\n",
       "  </thead>\n",
       "  <tbody>\n",
       "    <tr>\n",
       "      <th>0</th>\n",
       "      <td>A0118150101</td>\n",
       "      <td>2020</td>\n",
       "      <td>5.0207</td>\n",
       "    </tr>\n",
       "    <tr>\n",
       "      <th>1</th>\n",
       "      <td>A0118150101</td>\n",
       "      <td>2021</td>\n",
       "      <td>5.5172</td>\n",
       "    </tr>\n",
       "    <tr>\n",
       "      <th>2</th>\n",
       "      <td>A0118150102</td>\n",
       "      <td>2020</td>\n",
       "      <td>5.7180</td>\n",
       "    </tr>\n",
       "    <tr>\n",
       "      <th>3</th>\n",
       "      <td>A0118150102</td>\n",
       "      <td>2021</td>\n",
       "      <td>6.2835</td>\n",
       "    </tr>\n",
       "    <tr>\n",
       "      <th>4</th>\n",
       "      <td>A0118150103</td>\n",
       "      <td>2020</td>\n",
       "      <td>6.3264</td>\n",
       "    </tr>\n",
       "  </tbody>\n",
       "</table>\n",
       "</div>"
      ],
      "text/plain": [
       "  product_code  cost_year  manufacturing_cost\n",
       "0  A0118150101       2020              5.0207\n",
       "1  A0118150101       2021              5.5172\n",
       "2  A0118150102       2020              5.7180\n",
       "3  A0118150102       2021              6.2835\n",
       "4  A0118150103       2020              6.3264"
      ]
     },
     "execution_count": 120,
     "metadata": {},
     "output_type": "execute_result"
    }
   ],
   "source": [
    "# top records\n",
    "fact_manufacturing_cost.head()"
   ]
  },
  {
   "cell_type": "code",
   "execution_count": 121,
   "metadata": {},
   "outputs": [
    {
     "data": {
      "text/html": [
       "<div>\n",
       "<style scoped>\n",
       "    .dataframe tbody tr th:only-of-type {\n",
       "        vertical-align: middle;\n",
       "    }\n",
       "\n",
       "    .dataframe tbody tr th {\n",
       "        vertical-align: top;\n",
       "    }\n",
       "\n",
       "    .dataframe thead th {\n",
       "        text-align: right;\n",
       "    }\n",
       "</style>\n",
       "<table border=\"1\" class=\"dataframe\">\n",
       "  <thead>\n",
       "    <tr style=\"text-align: right;\">\n",
       "      <th></th>\n",
       "      <th>product_code</th>\n",
       "      <th>cost_year</th>\n",
       "      <th>manufacturing_cost</th>\n",
       "    </tr>\n",
       "  </thead>\n",
       "  <tbody>\n",
       "    <tr>\n",
       "      <th>574</th>\n",
       "      <td>A7220160203</td>\n",
       "      <td>2020</td>\n",
       "      <td>11.3034</td>\n",
       "    </tr>\n",
       "    <tr>\n",
       "      <th>575</th>\n",
       "      <td>A7220160203</td>\n",
       "      <td>2021</td>\n",
       "      <td>11.4176</td>\n",
       "    </tr>\n",
       "    <tr>\n",
       "      <th>576</th>\n",
       "      <td>A7321160301</td>\n",
       "      <td>2021</td>\n",
       "      <td>12.4138</td>\n",
       "    </tr>\n",
       "    <tr>\n",
       "      <th>577</th>\n",
       "      <td>A7321160302</td>\n",
       "      <td>2021</td>\n",
       "      <td>12.5670</td>\n",
       "    </tr>\n",
       "    <tr>\n",
       "      <th>578</th>\n",
       "      <td>A7321160303</td>\n",
       "      <td>2021</td>\n",
       "      <td>12.9502</td>\n",
       "    </tr>\n",
       "  </tbody>\n",
       "</table>\n",
       "</div>"
      ],
      "text/plain": [
       "    product_code  cost_year  manufacturing_cost\n",
       "574  A7220160203       2020             11.3034\n",
       "575  A7220160203       2021             11.4176\n",
       "576  A7321160301       2021             12.4138\n",
       "577  A7321160302       2021             12.5670\n",
       "578  A7321160303       2021             12.9502"
      ]
     },
     "execution_count": 121,
     "metadata": {},
     "output_type": "execute_result"
    }
   ],
   "source": [
    "# last record\n",
    "fact_manufacturing_cost.tail()"
   ]
  },
  {
   "cell_type": "code",
   "execution_count": 122,
   "metadata": {},
   "outputs": [
    {
     "name": "stdout",
     "output_type": "stream",
     "text": [
      "Shape of the Manufacturing Cost Data (579, 3)\n"
     ]
    }
   ],
   "source": [
    "# check data shape\n",
    "print(f\"Shape of the Manufacturing Cost Data {fact_manufacturing_cost.shape}\")"
   ]
  },
  {
   "cell_type": "code",
   "execution_count": 123,
   "metadata": {},
   "outputs": [
    {
     "name": "stdout",
     "output_type": "stream",
     "text": [
      "<class 'pandas.core.frame.DataFrame'>\n",
      "RangeIndex: 579 entries, 0 to 578\n",
      "Data columns (total 3 columns):\n",
      " #   Column              Non-Null Count  Dtype  \n",
      "---  ------              --------------  -----  \n",
      " 0   product_code        579 non-null    object \n",
      " 1   cost_year           579 non-null    int64  \n",
      " 2   manufacturing_cost  579 non-null    float64\n",
      "dtypes: float64(1), int64(1), object(1)\n",
      "memory usage: 13.7+ KB\n"
     ]
    }
   ],
   "source": [
    "# check the data type of all column and non value present in each\n",
    "fact_manufacturing_cost.info()"
   ]
  },
  {
   "cell_type": "code",
   "execution_count": 124,
   "metadata": {},
   "outputs": [
    {
     "data": {
      "text/html": [
       "<div>\n",
       "<style scoped>\n",
       "    .dataframe tbody tr th:only-of-type {\n",
       "        vertical-align: middle;\n",
       "    }\n",
       "\n",
       "    .dataframe tbody tr th {\n",
       "        vertical-align: top;\n",
       "    }\n",
       "\n",
       "    .dataframe thead th {\n",
       "        text-align: right;\n",
       "    }\n",
       "</style>\n",
       "<table border=\"1\" class=\"dataframe\">\n",
       "  <thead>\n",
       "    <tr style=\"text-align: right;\">\n",
       "      <th></th>\n",
       "      <th>product_code</th>\n",
       "      <th>cost_year</th>\n",
       "      <th>manufacturing_cost</th>\n",
       "    </tr>\n",
       "  </thead>\n",
       "  <tbody>\n",
       "  </tbody>\n",
       "</table>\n",
       "</div>"
      ],
      "text/plain": [
       "Empty DataFrame\n",
       "Columns: [product_code, cost_year, manufacturing_cost]\n",
       "Index: []"
      ]
     },
     "execution_count": 124,
     "metadata": {},
     "output_type": "execute_result"
    }
   ],
   "source": [
    "# duplication check\n",
    "fact_manufacturing_cost[fact_manufacturing_cost.duplicated()]"
   ]
  },
  {
   "cell_type": "code",
   "execution_count": 125,
   "metadata": {},
   "outputs": [
    {
     "data": {
      "text/plain": [
       "product_code          347\n",
       "cost_year               2\n",
       "manufacturing_cost    488\n",
       "dtype: int64"
      ]
     },
     "execution_count": 125,
     "metadata": {},
     "output_type": "execute_result"
    }
   ],
   "source": [
    "# number unique value in each columns\n",
    "fact_manufacturing_cost.nunique()"
   ]
  },
  {
   "cell_type": "code",
   "execution_count": 126,
   "metadata": {},
   "outputs": [
    {
     "data": {
      "text/plain": [
       "array([2020, 2021], dtype=int64)"
      ]
     },
     "execution_count": 126,
     "metadata": {},
     "output_type": "execute_result"
    }
   ],
   "source": [
    "# check unique value in cost_year column\n",
    "fact_manufacturing_cost['cost_year'].unique()"
   ]
  },
  {
   "cell_type": "code",
   "execution_count": 127,
   "metadata": {},
   "outputs": [
    {
     "data": {
      "text/plain": [
       "count    579.000000\n",
       "mean      61.566094\n",
       "std       73.037066\n",
       "min        0.892000\n",
       "25%        5.592350\n",
       "50%       10.482800\n",
       "75%      127.439850\n",
       "max      240.536400\n",
       "Name: manufacturing_cost, dtype: float64"
      ]
     },
     "execution_count": 127,
     "metadata": {},
     "output_type": "execute_result"
    }
   ],
   "source": [
    "# check numerical values in manufacturing_cost column\n",
    "fact_manufacturing_cost['manufacturing_cost'].describe()"
   ]
  },
  {
   "cell_type": "markdown",
   "metadata": {},
   "source": [
    "### Pre Invoice Deduction Data\n",
    "Column Description for fact_pre_invoice_deductions:\n",
    "1. customer_code: The 'customer_code' column features unique identification codes for every customer in the dataset. These codes can be used to track a customer's sales history, demographic information, and other relevant details. For example, the codes could look like '70002017', '90005160', and '80007195' respectively.\n",
    "\n",
    "2. fiscal_year: The \"fiscal_year\" column holds the fiscal period when the sale of a product occurred.\n",
    "\n",
    "3. pre_invoice_discount_pct: The \"pre_invoice_discount_pct\" column contains the percentage of pre-invoice deductions for each product. Pre-invoice deductions are discounts that are applied to the gross price of a product before the invoice is generated, and typically applied to large orders or long-term contracts."
   ]
  },
  {
   "cell_type": "code",
   "execution_count": 128,
   "metadata": {},
   "outputs": [
    {
     "data": {
      "text/html": [
       "<div>\n",
       "<style scoped>\n",
       "    .dataframe tbody tr th:only-of-type {\n",
       "        vertical-align: middle;\n",
       "    }\n",
       "\n",
       "    .dataframe tbody tr th {\n",
       "        vertical-align: top;\n",
       "    }\n",
       "\n",
       "    .dataframe thead th {\n",
       "        text-align: right;\n",
       "    }\n",
       "</style>\n",
       "<table border=\"1\" class=\"dataframe\">\n",
       "  <thead>\n",
       "    <tr style=\"text-align: right;\">\n",
       "      <th></th>\n",
       "      <th>customer_code</th>\n",
       "      <th>fiscal_year</th>\n",
       "      <th>pre_invoice_discount_pct</th>\n",
       "    </tr>\n",
       "  </thead>\n",
       "  <tbody>\n",
       "    <tr>\n",
       "      <th>0</th>\n",
       "      <td>70002017</td>\n",
       "      <td>2020</td>\n",
       "      <td>0.0735</td>\n",
       "    </tr>\n",
       "    <tr>\n",
       "      <th>1</th>\n",
       "      <td>70002017</td>\n",
       "      <td>2021</td>\n",
       "      <td>0.0703</td>\n",
       "    </tr>\n",
       "    <tr>\n",
       "      <th>2</th>\n",
       "      <td>70002018</td>\n",
       "      <td>2020</td>\n",
       "      <td>0.2255</td>\n",
       "    </tr>\n",
       "    <tr>\n",
       "      <th>3</th>\n",
       "      <td>70002018</td>\n",
       "      <td>2021</td>\n",
       "      <td>0.2061</td>\n",
       "    </tr>\n",
       "    <tr>\n",
       "      <th>4</th>\n",
       "      <td>70003181</td>\n",
       "      <td>2020</td>\n",
       "      <td>0.0531</td>\n",
       "    </tr>\n",
       "  </tbody>\n",
       "</table>\n",
       "</div>"
      ],
      "text/plain": [
       "   customer_code  fiscal_year  pre_invoice_discount_pct\n",
       "0       70002017         2020                    0.0735\n",
       "1       70002017         2021                    0.0703\n",
       "2       70002018         2020                    0.2255\n",
       "3       70002018         2021                    0.2061\n",
       "4       70003181         2020                    0.0531"
      ]
     },
     "execution_count": 128,
     "metadata": {},
     "output_type": "execute_result"
    }
   ],
   "source": [
    "# top records\n",
    "fact_pre_invoice_deduction.head()"
   ]
  },
  {
   "cell_type": "code",
   "execution_count": 129,
   "metadata": {},
   "outputs": [
    {
     "data": {
      "text/html": [
       "<div>\n",
       "<style scoped>\n",
       "    .dataframe tbody tr th:only-of-type {\n",
       "        vertical-align: middle;\n",
       "    }\n",
       "\n",
       "    .dataframe tbody tr th {\n",
       "        vertical-align: top;\n",
       "    }\n",
       "\n",
       "    .dataframe thead th {\n",
       "        text-align: right;\n",
       "    }\n",
       "</style>\n",
       "<table border=\"1\" class=\"dataframe\">\n",
       "  <thead>\n",
       "    <tr style=\"text-align: right;\">\n",
       "      <th></th>\n",
       "      <th>customer_code</th>\n",
       "      <th>fiscal_year</th>\n",
       "      <th>pre_invoice_discount_pct</th>\n",
       "    </tr>\n",
       "  </thead>\n",
       "  <tbody>\n",
       "    <tr>\n",
       "      <th>413</th>\n",
       "      <td>90025209</td>\n",
       "      <td>2021</td>\n",
       "      <td>0.2386</td>\n",
       "    </tr>\n",
       "    <tr>\n",
       "      <th>414</th>\n",
       "      <td>90026205</td>\n",
       "      <td>2020</td>\n",
       "      <td>0.3051</td>\n",
       "    </tr>\n",
       "    <tr>\n",
       "      <th>415</th>\n",
       "      <td>90026205</td>\n",
       "      <td>2021</td>\n",
       "      <td>0.2554</td>\n",
       "    </tr>\n",
       "    <tr>\n",
       "      <th>416</th>\n",
       "      <td>90027207</td>\n",
       "      <td>2020</td>\n",
       "      <td>0.2386</td>\n",
       "    </tr>\n",
       "    <tr>\n",
       "      <th>417</th>\n",
       "      <td>90027207</td>\n",
       "      <td>2021</td>\n",
       "      <td>0.2772</td>\n",
       "    </tr>\n",
       "  </tbody>\n",
       "</table>\n",
       "</div>"
      ],
      "text/plain": [
       "     customer_code  fiscal_year  pre_invoice_discount_pct\n",
       "413       90025209         2021                    0.2386\n",
       "414       90026205         2020                    0.3051\n",
       "415       90026205         2021                    0.2554\n",
       "416       90027207         2020                    0.2386\n",
       "417       90027207         2021                    0.2772"
      ]
     },
     "execution_count": 129,
     "metadata": {},
     "output_type": "execute_result"
    }
   ],
   "source": [
    "# last records\n",
    "fact_pre_invoice_deduction.tail()"
   ]
  },
  {
   "cell_type": "code",
   "execution_count": 130,
   "metadata": {},
   "outputs": [
    {
     "name": "stdout",
     "output_type": "stream",
     "text": [
      "Shape of the Pre Invoice Deduction Data (418, 3)\n"
     ]
    }
   ],
   "source": [
    "# check data shape\n",
    "print(f\"Shape of the Pre Invoice Deduction Data {fact_pre_invoice_deduction.shape}\")"
   ]
  },
  {
   "cell_type": "code",
   "execution_count": 131,
   "metadata": {},
   "outputs": [
    {
     "name": "stdout",
     "output_type": "stream",
     "text": [
      "<class 'pandas.core.frame.DataFrame'>\n",
      "RangeIndex: 418 entries, 0 to 417\n",
      "Data columns (total 3 columns):\n",
      " #   Column                    Non-Null Count  Dtype  \n",
      "---  ------                    --------------  -----  \n",
      " 0   customer_code             418 non-null    int64  \n",
      " 1   fiscal_year               418 non-null    int64  \n",
      " 2   pre_invoice_discount_pct  418 non-null    float64\n",
      "dtypes: float64(1), int64(2)\n",
      "memory usage: 9.9 KB\n"
     ]
    }
   ],
   "source": [
    "# check the data type of all column and non values present in each\n",
    "fact_pre_invoice_deduction.info()"
   ]
  },
  {
   "cell_type": "code",
   "execution_count": 132,
   "metadata": {},
   "outputs": [
    {
     "data": {
      "text/html": [
       "<div>\n",
       "<style scoped>\n",
       "    .dataframe tbody tr th:only-of-type {\n",
       "        vertical-align: middle;\n",
       "    }\n",
       "\n",
       "    .dataframe tbody tr th {\n",
       "        vertical-align: top;\n",
       "    }\n",
       "\n",
       "    .dataframe thead th {\n",
       "        text-align: right;\n",
       "    }\n",
       "</style>\n",
       "<table border=\"1\" class=\"dataframe\">\n",
       "  <thead>\n",
       "    <tr style=\"text-align: right;\">\n",
       "      <th></th>\n",
       "      <th>customer_code</th>\n",
       "      <th>fiscal_year</th>\n",
       "      <th>pre_invoice_discount_pct</th>\n",
       "    </tr>\n",
       "  </thead>\n",
       "  <tbody>\n",
       "  </tbody>\n",
       "</table>\n",
       "</div>"
      ],
      "text/plain": [
       "Empty DataFrame\n",
       "Columns: [customer_code, fiscal_year, pre_invoice_discount_pct]\n",
       "Index: []"
      ]
     },
     "execution_count": 132,
     "metadata": {},
     "output_type": "execute_result"
    }
   ],
   "source": [
    "# duplication check\n",
    "fact_pre_invoice_deduction[fact_pre_invoice_deduction.duplicated()]"
   ]
  },
  {
   "cell_type": "code",
   "execution_count": 133,
   "metadata": {},
   "outputs": [
    {
     "data": {
      "text/plain": [
       "customer_code               209\n",
       "fiscal_year                   2\n",
       "pre_invoice_discount_pct    351\n",
       "dtype: int64"
      ]
     },
     "execution_count": 133,
     "metadata": {},
     "output_type": "execute_result"
    }
   ],
   "source": [
    "# number unique value in each columns\n",
    "fact_pre_invoice_deduction.nunique()"
   ]
  },
  {
   "cell_type": "code",
   "execution_count": 134,
   "metadata": {},
   "outputs": [
    {
     "data": {
      "text/plain": [
       "array([2020, 2021], dtype=int64)"
      ]
     },
     "execution_count": 134,
     "metadata": {},
     "output_type": "execute_result"
    }
   ],
   "source": [
    "# check unique value in fiscal_year column\n",
    "fact_pre_invoice_deduction['fiscal_year'].unique()"
   ]
  },
  {
   "cell_type": "code",
   "execution_count": 135,
   "metadata": {},
   "outputs": [
    {
     "data": {
      "text/plain": [
       "count    418.000000\n",
       "mean       0.233616\n",
       "std        0.057416\n",
       "min        0.053100\n",
       "25%        0.204875\n",
       "50%        0.240050\n",
       "75%        0.276150\n",
       "max        0.309500\n",
       "Name: pre_invoice_discount_pct, dtype: float64"
      ]
     },
     "execution_count": 135,
     "metadata": {},
     "output_type": "execute_result"
    }
   ],
   "source": [
    "# check numerical value in pre_invoice_discount_pct column\n",
    "fact_pre_invoice_deduction['pre_invoice_discount_pct'].describe()"
   ]
  },
  {
   "cell_type": "markdown",
   "metadata": {},
   "source": [
    "### Sales Monthly Data\n",
    "Column Description for fact_sales_monthly:\n",
    "1. date: The \"date\" column contains the date when the sale of a product was made, in a monthly format for 2020 and 2021 fiscal years. This information can be used to understand the sales performance of products over time.\n",
    "\n",
    "2. product_code: The \"product_code\" column contains a unique identification code for each product. This code is used to track and differentiate individual products within a database or system.\n",
    "\n",
    "3. customer_code: The 'customer_code' column features unique identification codes for every customer in the dataset. These codes can be used to track a customer's sales history, demographic information, and other relevant details. For example, the codes could look like '70002017', '90005160', and '80007195' respectively.\n",
    "\n",
    "4. sold_quantity: The \"sold_quantity\" column contains the number of units of a product that were sold. This information can be used to understand the sales volume ofproducts and to compare the sales volume of different products or variants.\n",
    "\n",
    "5. fiscal_year: The \"fiscal_year\" column holds the fiscal period when the sale of a product occurred."
   ]
  },
  {
   "cell_type": "code",
   "execution_count": 136,
   "metadata": {},
   "outputs": [
    {
     "data": {
      "text/html": [
       "<div>\n",
       "<style scoped>\n",
       "    .dataframe tbody tr th:only-of-type {\n",
       "        vertical-align: middle;\n",
       "    }\n",
       "\n",
       "    .dataframe tbody tr th {\n",
       "        vertical-align: top;\n",
       "    }\n",
       "\n",
       "    .dataframe thead th {\n",
       "        text-align: right;\n",
       "    }\n",
       "</style>\n",
       "<table border=\"1\" class=\"dataframe\">\n",
       "  <thead>\n",
       "    <tr style=\"text-align: right;\">\n",
       "      <th></th>\n",
       "      <th>date</th>\n",
       "      <th>product_code</th>\n",
       "      <th>customer_code</th>\n",
       "      <th>sold_quantity</th>\n",
       "      <th>fiscal_year</th>\n",
       "    </tr>\n",
       "  </thead>\n",
       "  <tbody>\n",
       "    <tr>\n",
       "      <th>0</th>\n",
       "      <td>9/1/2019</td>\n",
       "      <td>A0118150101</td>\n",
       "      <td>70002017</td>\n",
       "      <td>137</td>\n",
       "      <td>2020</td>\n",
       "    </tr>\n",
       "    <tr>\n",
       "      <th>1</th>\n",
       "      <td>9/1/2019</td>\n",
       "      <td>A0118150101</td>\n",
       "      <td>70002018</td>\n",
       "      <td>47</td>\n",
       "      <td>2020</td>\n",
       "    </tr>\n",
       "    <tr>\n",
       "      <th>2</th>\n",
       "      <td>9/1/2019</td>\n",
       "      <td>A0118150101</td>\n",
       "      <td>70003181</td>\n",
       "      <td>57</td>\n",
       "      <td>2020</td>\n",
       "    </tr>\n",
       "    <tr>\n",
       "      <th>3</th>\n",
       "      <td>9/1/2019</td>\n",
       "      <td>A0118150101</td>\n",
       "      <td>70003182</td>\n",
       "      <td>63</td>\n",
       "      <td>2020</td>\n",
       "    </tr>\n",
       "    <tr>\n",
       "      <th>4</th>\n",
       "      <td>9/1/2019</td>\n",
       "      <td>A0118150101</td>\n",
       "      <td>70004069</td>\n",
       "      <td>9</td>\n",
       "      <td>2020</td>\n",
       "    </tr>\n",
       "  </tbody>\n",
       "</table>\n",
       "</div>"
      ],
      "text/plain": [
       "       date product_code  customer_code  sold_quantity  fiscal_year\n",
       "0  9/1/2019  A0118150101       70002017            137         2020\n",
       "1  9/1/2019  A0118150101       70002018             47         2020\n",
       "2  9/1/2019  A0118150101       70003181             57         2020\n",
       "3  9/1/2019  A0118150101       70003182             63         2020\n",
       "4  9/1/2019  A0118150101       70004069              9         2020"
      ]
     },
     "execution_count": 136,
     "metadata": {},
     "output_type": "execute_result"
    }
   ],
   "source": [
    "# top records\n",
    "fact_sales_monthly.head()"
   ]
  },
  {
   "cell_type": "code",
   "execution_count": 137,
   "metadata": {},
   "outputs": [
    {
     "data": {
      "text/html": [
       "<div>\n",
       "<style scoped>\n",
       "    .dataframe tbody tr th:only-of-type {\n",
       "        vertical-align: middle;\n",
       "    }\n",
       "\n",
       "    .dataframe tbody tr th {\n",
       "        vertical-align: top;\n",
       "    }\n",
       "\n",
       "    .dataframe thead th {\n",
       "        text-align: right;\n",
       "    }\n",
       "</style>\n",
       "<table border=\"1\" class=\"dataframe\">\n",
       "  <thead>\n",
       "    <tr style=\"text-align: right;\">\n",
       "      <th></th>\n",
       "      <th>date</th>\n",
       "      <th>product_code</th>\n",
       "      <th>customer_code</th>\n",
       "      <th>sold_quantity</th>\n",
       "      <th>fiscal_year</th>\n",
       "    </tr>\n",
       "  </thead>\n",
       "  <tbody>\n",
       "    <tr>\n",
       "      <th>971626</th>\n",
       "      <td>8/1/2021</td>\n",
       "      <td>A7321160303</td>\n",
       "      <td>90023028</td>\n",
       "      <td>57</td>\n",
       "      <td>2021</td>\n",
       "    </tr>\n",
       "    <tr>\n",
       "      <th>971627</th>\n",
       "      <td>8/1/2021</td>\n",
       "      <td>A7321160303</td>\n",
       "      <td>90023030</td>\n",
       "      <td>139</td>\n",
       "      <td>2021</td>\n",
       "    </tr>\n",
       "    <tr>\n",
       "      <th>971628</th>\n",
       "      <td>8/1/2021</td>\n",
       "      <td>A7321160303</td>\n",
       "      <td>90024183</td>\n",
       "      <td>11</td>\n",
       "      <td>2021</td>\n",
       "    </tr>\n",
       "    <tr>\n",
       "      <th>971629</th>\n",
       "      <td>8/1/2021</td>\n",
       "      <td>A7321160303</td>\n",
       "      <td>90024184</td>\n",
       "      <td>17</td>\n",
       "      <td>2021</td>\n",
       "    </tr>\n",
       "    <tr>\n",
       "      <th>971630</th>\n",
       "      <td>8/1/2021</td>\n",
       "      <td>A7321160303</td>\n",
       "      <td>90027207</td>\n",
       "      <td>12</td>\n",
       "      <td>2021</td>\n",
       "    </tr>\n",
       "  </tbody>\n",
       "</table>\n",
       "</div>"
      ],
      "text/plain": [
       "            date product_code  customer_code  sold_quantity  fiscal_year\n",
       "971626  8/1/2021  A7321160303       90023028             57         2021\n",
       "971627  8/1/2021  A7321160303       90023030            139         2021\n",
       "971628  8/1/2021  A7321160303       90024183             11         2021\n",
       "971629  8/1/2021  A7321160303       90024184             17         2021\n",
       "971630  8/1/2021  A7321160303       90027207             12         2021"
      ]
     },
     "execution_count": 137,
     "metadata": {},
     "output_type": "execute_result"
    }
   ],
   "source": [
    "# last records\n",
    "fact_sales_monthly.tail()"
   ]
  },
  {
   "cell_type": "code",
   "execution_count": 138,
   "metadata": {},
   "outputs": [
    {
     "name": "stdout",
     "output_type": "stream",
     "text": [
      "Shape of the Sales Monthly Data (971631, 5)\n"
     ]
    }
   ],
   "source": [
    "# check data shape\n",
    "print(f\"Shape of the Sales Monthly Data {fact_sales_monthly.shape}\")"
   ]
  },
  {
   "cell_type": "code",
   "execution_count": 139,
   "metadata": {},
   "outputs": [
    {
     "name": "stdout",
     "output_type": "stream",
     "text": [
      "<class 'pandas.core.frame.DataFrame'>\n",
      "RangeIndex: 971631 entries, 0 to 971630\n",
      "Data columns (total 5 columns):\n",
      " #   Column         Non-Null Count   Dtype \n",
      "---  ------         --------------   ----- \n",
      " 0   date           971631 non-null  object\n",
      " 1   product_code   971631 non-null  object\n",
      " 2   customer_code  971631 non-null  int64 \n",
      " 3   sold_quantity  971631 non-null  int64 \n",
      " 4   fiscal_year    971631 non-null  int64 \n",
      "dtypes: int64(3), object(2)\n",
      "memory usage: 37.1+ MB\n"
     ]
    }
   ],
   "source": [
    "# check the data type of all columns and non values present in each\n",
    "fact_sales_monthly.info()"
   ]
  },
  {
   "cell_type": "code",
   "execution_count": 140,
   "metadata": {},
   "outputs": [
    {
     "data": {
      "text/html": [
       "<div>\n",
       "<style scoped>\n",
       "    .dataframe tbody tr th:only-of-type {\n",
       "        vertical-align: middle;\n",
       "    }\n",
       "\n",
       "    .dataframe tbody tr th {\n",
       "        vertical-align: top;\n",
       "    }\n",
       "\n",
       "    .dataframe thead th {\n",
       "        text-align: right;\n",
       "    }\n",
       "</style>\n",
       "<table border=\"1\" class=\"dataframe\">\n",
       "  <thead>\n",
       "    <tr style=\"text-align: right;\">\n",
       "      <th></th>\n",
       "      <th>date</th>\n",
       "      <th>product_code</th>\n",
       "      <th>customer_code</th>\n",
       "      <th>sold_quantity</th>\n",
       "      <th>fiscal_year</th>\n",
       "    </tr>\n",
       "  </thead>\n",
       "  <tbody>\n",
       "  </tbody>\n",
       "</table>\n",
       "</div>"
      ],
      "text/plain": [
       "Empty DataFrame\n",
       "Columns: [date, product_code, customer_code, sold_quantity, fiscal_year]\n",
       "Index: []"
      ]
     },
     "execution_count": 140,
     "metadata": {},
     "output_type": "execute_result"
    }
   ],
   "source": [
    "# duplication check\n",
    "fact_sales_monthly[fact_sales_monthly.duplicated()]"
   ]
  },
  {
   "cell_type": "code",
   "execution_count": 141,
   "metadata": {},
   "outputs": [
    {
     "data": {
      "text/plain": [
       "date               24\n",
       "product_code      347\n",
       "customer_code     209\n",
       "sold_quantity    2394\n",
       "fiscal_year         2\n",
       "dtype: int64"
      ]
     },
     "execution_count": 141,
     "metadata": {},
     "output_type": "execute_result"
    }
   ],
   "source": [
    "# number unique value in each column\n",
    "fact_sales_monthly.nunique()"
   ]
  },
  {
   "cell_type": "markdown",
   "metadata": {},
   "source": [
    "#### Check Unique value in columns"
   ]
  },
  {
   "cell_type": "code",
   "execution_count": 142,
   "metadata": {},
   "outputs": [
    {
     "data": {
      "text/plain": [
       "array(['9/1/2019', '10/1/2019', '11/1/2019', '12/1/2019', '1/1/2020',\n",
       "       '2/1/2020', '3/1/2020', '4/1/2020', '5/1/2020', '6/1/2020',\n",
       "       '7/1/2020', '8/1/2020', '9/1/2020', '10/1/2020', '11/1/2020',\n",
       "       '12/1/2020', '1/1/2021', '2/1/2021', '3/1/2021', '4/1/2021',\n",
       "       '5/1/2021', '6/1/2021', '7/1/2021', '8/1/2021'], dtype=object)"
      ]
     },
     "execution_count": 142,
     "metadata": {},
     "output_type": "execute_result"
    }
   ],
   "source": [
    "# check unique value in date column\n",
    "fact_sales_monthly['date'].unique()"
   ]
  },
  {
   "cell_type": "code",
   "execution_count": 143,
   "metadata": {},
   "outputs": [
    {
     "data": {
      "text/plain": [
       "array([2020, 2021], dtype=int64)"
      ]
     },
     "execution_count": 143,
     "metadata": {},
     "output_type": "execute_result"
    }
   ],
   "source": [
    "# check unique value in fiscal_year column\n",
    "fact_sales_monthly['fiscal_year'].unique()"
   ]
  },
  {
   "cell_type": "code",
   "execution_count": 144,
   "metadata": {},
   "outputs": [
    {
     "data": {
      "text/plain": [
       "0    A6818160201\n",
       "Name: product_code, dtype: object"
      ]
     },
     "execution_count": 144,
     "metadata": {},
     "output_type": "execute_result"
    }
   ],
   "source": [
    "# Check mode value in product_code column\n",
    "fact_sales_monthly['product_code'].mode()"
   ]
  },
  {
   "cell_type": "code",
   "execution_count": 145,
   "metadata": {},
   "outputs": [
    {
     "data": {
      "text/plain": [
       "0    70002018\n",
       "Name: customer_code, dtype: int64"
      ]
     },
     "execution_count": 145,
     "metadata": {},
     "output_type": "execute_result"
    }
   ],
   "source": [
    "# check mode value in customer_code column\n",
    "fact_sales_monthly['customer_code'].mode()"
   ]
  },
  {
   "cell_type": "code",
   "execution_count": 146,
   "metadata": {},
   "outputs": [
    {
     "data": {
      "text/plain": [
       "count    971631.000000\n",
       "mean         73.008653\n",
       "std         176.197360\n",
       "min           1.000000\n",
       "25%           3.000000\n",
       "50%          14.000000\n",
       "75%          62.000000\n",
       "max        5832.000000\n",
       "Name: sold_quantity, dtype: float64"
      ]
     },
     "execution_count": 146,
     "metadata": {},
     "output_type": "execute_result"
    }
   ],
   "source": [
    "# check numerical values in sold_quantity column\n",
    "fact_sales_monthly['sold_quantity'].describe()"
   ]
  },
  {
   "cell_type": "markdown",
   "metadata": {},
   "source": [
    "## Data Pre-processing"
   ]
  },
  {
   "cell_type": "markdown",
   "metadata": {},
   "source": [
    "### Outlier Processing\n",
    "\n",
    "Next we'll take a look at any outliers we may need to treat."
   ]
  },
  {
   "cell_type": "markdown",
   "metadata": {},
   "source": [
    "#### Create functions for calculating outliers"
   ]
  },
  {
   "cell_type": "code",
   "execution_count": 149,
   "metadata": {},
   "outputs": [],
   "source": [
    "# functions for calculating outliers\n",
    "def check_outlier(df, column):\n",
    "    \"\"\"_summary_\n",
    "\n",
    "    Args:\n",
    "        df (_type_): _description_\n",
    "        column (_type_): _description_\n",
    "    \"\"\"\n",
    "    # calculate percentage values:\n",
    "    Q1 = df[column].quantile(0.25)\n",
    "    Q2 = df[column].quantile(0.5)\n",
    "    Q3 = df[column].quantile(0.75)\n",
    "    # calculate the inter quartile range (IQR)\n",
    "    IQR = Q3 - Q1\n",
    "    # define lower, median, and upper thresholds to identify outliers \n",
    "    lower = Q1 - 1.5 * IQR # the lower threshold, calculated as Q1 minus 1.5 times IQR\n",
    "    median = Q2 \n",
    "    upper = Q3 + 1.5 * IQR # the upper threshold, calculated as Q3 plus 1.5 times IQR\n",
    "    # calculate the percentage of outliers\n",
    "    # The total number of values greater than upper or less than lower is divided by the total number of values in the column\n",
    "    # Then multiplied by 100 to get the percentage.\n",
    "    percent_outliers = round(((df[df[column] > upper].shape[0]) + (df[df[column] < lower].shape[0])) / df.shape[0] * 100, 2)\n",
    "# Create a DataFrame containing statistical indices\n",
    "    result = pd.DataFrame({\n",
    "        'lower_bound': [lower],\n",
    "        'median': [median],\n",
    "        'upper_bound': [upper],\n",
    "        'percent_outliers': [percent_outliers]\n",
    "    })\n",
    "    # returns calculated values\n",
    "    return result"
   ]
  },
  {
   "cell_type": "markdown",
   "metadata": {},
   "source": [
    "#### Check outlier of sold quantity column"
   ]
  },
  {
   "cell_type": "code",
   "execution_count": 150,
   "metadata": {},
   "outputs": [
    {
     "data": {
      "image/png": "[encoded data removed]",
      "text/plain": [
       "<Figure size 1600x600 with 2 Axes>"
      ]
     },
     "metadata": {},
     "output_type": "display_data"
    },
    {
     "name": "stdout",
     "output_type": "stream",
     "text": [
      "The Skew of Sold Quantity Data is: 6.02\n"
     ]
    }
   ],
   "source": [
    "# overview of outliers\n",
    "# set the size of chart\n",
    "plt.figure(figsize=(16,6))\n",
    "# first subplot by box plot\n",
    "plt.subplot(1,2,1)\n",
    "plt.grid()\n",
    "sns.boxplot(data=fact_sales_monthly, x='sold_quantity', color='#DC5F00')\n",
    "plt.title(\"Distribution by BoxPlot\")\n",
    "# second subplot by hist plot\n",
    "plt.subplot(1,2,2)\n",
    "plt.grid()\n",
    "sns.histplot(data=fact_sales_monthly, x='sold_quantity', color='#DC5F00')\n",
    "plt.title(\"Distribution by HistPlot\")\n",
    "# plot the chart\n",
    "plt.show()\n",
    "# Check the skewness of data in the \"sold_quantity\" column\n",
    "print(f\"The Skew of Sold Quantity Data is: {round(fact_sales_monthly['sold_quantity'].skew(), 2)}\")"
   ]
  },
  {
   "cell_type": "markdown",
   "metadata": {},
   "source": [
    "##### Sold Quantity Outlier Data"
   ]
  },
  {
   "cell_type": "code",
   "execution_count": 151,
   "metadata": {},
   "outputs": [
    {
     "name": "stdout",
     "output_type": "stream",
     "text": [
      "lower bound is -85.5\n",
      "median is 14.0\n",
      "upper bound is 150.5\n",
      "percentage of sold quantity that are outliers is 12.22%\n"
     ]
    }
   ],
   "source": [
    "# check the outliers, find out the upper bound and lower bound of the \"sold quantity\" column\n",
    "bounds_sold_quantity = check_outlier(fact_sales_monthly, 'sold_quantity')\n",
    "# print out the required information\n",
    "print(f\"lower bound is {bounds_sold_quantity['lower_bound'].values[0]}\")\n",
    "print(f\"median is {bounds_sold_quantity['median'].values[0]}\")\n",
    "print(f\"upper bound is {bounds_sold_quantity['upper_bound'].values[0]}\")\n",
    "print(f\"percentage of sold quantity that are outliers is {bounds_sold_quantity['percent_outliers'].values[0]}%\")"
   ]
  },
  {
   "cell_type": "markdown",
   "metadata": {},
   "source": [
    "The data in the sold quantity column has a lower bound of -85.5, and an upper bound of 150.5\n",
    "\n",
    "Based on the data distribution in the previous sold quantity column we learned about, the data is skewed to the right. Therefore, we will only focus on further exploration of the upper bound.\n",
    "\n",
    "Let's move on"
   ]
  },
  {
   "cell_type": "code",
   "execution_count": 152,
   "metadata": {},
   "outputs": [
    {
     "name": "stdout",
     "output_type": "stream",
     "text": [
      "The total number of outliers is 118719\n"
     ]
    }
   ],
   "source": [
    "# filter rows with sold quantity greater than upper bound of sold quantity\n",
    "outliers_sold_quantity = fact_sales_monthly[fact_sales_monthly['sold_quantity']>bounds_sold_quantity['upper_bound'].values[0]]\n",
    "# Check how many rows are outliers\n",
    "print(f\"The total number of outliers is {outliers_sold_quantity.shape[0]}\")"
   ]
  },
  {
   "cell_type": "code",
   "execution_count": 153,
   "metadata": {},
   "outputs": [
    {
     "name": "stdout",
     "output_type": "stream",
     "text": [
      "The number of Sold Quantity Outliers for Division  P & A is  89936\n",
      "The number of Sold Quantity Outliers for Division  N & S is  28783\n"
     ]
    }
   ],
   "source": [
    "# Merge over_upper_sold_quantity with dim_product table to get more products details\n",
    "outliers_sold_quantity_by_product = outliers_sold_quantity[\n",
    "    ['date','product_code', 'customer_code', 'fiscal_year', 'sold_quantity']\n",
    "    ].merge(dim_products, how='left', on='product_code', validate='many_to_one')\n",
    "# count the outlier sold quantity values in each division\n",
    "for i in outliers_sold_quantity_by_product['division'].unique():\n",
    "    print(\"The number of Sold Quantity Outliers for Division \", i, \"is \",\n",
    "          str(outliers_sold_quantity_by_product[outliers_sold_quantity_by_product['division']==i]['division'].count())\n",
    "          )"
   ]
  },
  {
   "cell_type": "code",
   "execution_count": 154,
   "metadata": {},
   "outputs": [
    {
     "name": "stdout",
     "output_type": "stream",
     "text": [
      "The number of Sold Quantity Outliers for Category  Peripherals is  9392\n",
      "The number of Sold Quantity Outliers for Category  Accessories is  80544\n",
      "The number of Sold Quantity Outliers for Category  Storage is  20895\n",
      "The number of Sold Quantity Outliers for Category  Networking is  7888\n"
     ]
    }
   ],
   "source": [
    "# count the outlier sold quantity values in each segment\n",
    "for i in outliers_sold_quantity_by_product['segment'].unique():\n",
    "    print(\"The number of Sold Quantity Outliers for Category \", i, \"is \",\n",
    "          str(outliers_sold_quantity_by_product[outliers_sold_quantity_by_product['segment']==i]['segment'].count())\n",
    "          )"
   ]
  },
  {
   "cell_type": "code",
   "execution_count": 155,
   "metadata": {},
   "outputs": [
    {
     "name": "stdout",
     "output_type": "stream",
     "text": [
      "The number of Sold Quantity Outliers for Category  Internal HDD is  2179\n",
      "The number of Sold Quantity Outliers for Category  Graphic Card is  4100\n",
      "The number of Sold Quantity Outliers for Category  Processors is  2324\n"
     ]
    },
    {
     "name": "stdout",
     "output_type": "stream",
     "text": [
      "The number of Sold Quantity Outliers for Category  MotherBoard is  789\n",
      "The number of Sold Quantity Outliers for Category  Mouse is  43112\n",
      "The number of Sold Quantity Outliers for Category  Keyboard is  37269\n",
      "The number of Sold Quantity Outliers for Category  Batteries is  163\n",
      "The number of Sold Quantity Outliers for Category  External Solid State Drives is  14978\n",
      "The number of Sold Quantity Outliers for Category  USB Flash Drives is  5917\n",
      "The number of Sold Quantity Outliers for Category  Wi fi extender is  7888\n"
     ]
    }
   ],
   "source": [
    "# count the outlier sold quantity values in each category\n",
    "for i in outliers_sold_quantity_by_product['category'].unique():\n",
    "    print(\"The number of Sold Quantity Outliers for Category \", i, \"is \",\n",
    "          str(outliers_sold_quantity_by_product[outliers_sold_quantity_by_product['category']==i]['category'].count())\n",
    "          )"
   ]
  },
  {
   "cell_type": "markdown",
   "metadata": {},
   "source": [
    "##### Explore \"P & A\" division Sold Quantity Outliers"
   ]
  },
  {
   "cell_type": "code",
   "execution_count": 156,
   "metadata": {},
   "outputs": [
    {
     "data": {
      "text/html": [
       "<div>\n",
       "<style scoped>\n",
       "    .dataframe tbody tr th:only-of-type {\n",
       "        vertical-align: middle;\n",
       "    }\n",
       "\n",
       "    .dataframe tbody tr th {\n",
       "        vertical-align: top;\n",
       "    }\n",
       "\n",
       "    .dataframe thead th {\n",
       "        text-align: right;\n",
       "    }\n",
       "</style>\n",
       "<table border=\"1\" class=\"dataframe\">\n",
       "  <thead>\n",
       "    <tr style=\"text-align: right;\">\n",
       "      <th></th>\n",
       "      <th>segment</th>\n",
       "      <th>category</th>\n",
       "      <th>product</th>\n",
       "      <th>min</th>\n",
       "      <th>mean</th>\n",
       "      <th>median</th>\n",
       "      <th>max</th>\n",
       "    </tr>\n",
       "  </thead>\n",
       "  <tbody>\n",
       "    <tr>\n",
       "      <th>0</th>\n",
       "      <td>Accessories</td>\n",
       "      <td>Batteries</td>\n",
       "      <td>AQ LION x1</td>\n",
       "      <td>1</td>\n",
       "      <td>12.101442</td>\n",
       "      <td>5.0</td>\n",
       "      <td>300</td>\n",
       "    </tr>\n",
       "    <tr>\n",
       "      <th>1</th>\n",
       "      <td>Accessories</td>\n",
       "      <td>Batteries</td>\n",
       "      <td>AQ LION x2</td>\n",
       "      <td>1</td>\n",
       "      <td>13.137897</td>\n",
       "      <td>5.0</td>\n",
       "      <td>295</td>\n",
       "    </tr>\n",
       "    <tr>\n",
       "      <th>2</th>\n",
       "      <td>Accessories</td>\n",
       "      <td>Batteries</td>\n",
       "      <td>AQ LION x3</td>\n",
       "      <td>1</td>\n",
       "      <td>13.083733</td>\n",
       "      <td>5.0</td>\n",
       "      <td>281</td>\n",
       "    </tr>\n",
       "    <tr>\n",
       "      <th>3</th>\n",
       "      <td>Accessories</td>\n",
       "      <td>Batteries</td>\n",
       "      <td>AQ Mx NB</td>\n",
       "      <td>1</td>\n",
       "      <td>15.815132</td>\n",
       "      <td>8.0</td>\n",
       "      <td>285</td>\n",
       "    </tr>\n",
       "    <tr>\n",
       "      <th>4</th>\n",
       "      <td>Accessories</td>\n",
       "      <td>Keyboard</td>\n",
       "      <td>AQ Gamers</td>\n",
       "      <td>1</td>\n",
       "      <td>148.698954</td>\n",
       "      <td>72.0</td>\n",
       "      <td>2755</td>\n",
       "    </tr>\n",
       "    <tr>\n",
       "      <th>5</th>\n",
       "      <td>Accessories</td>\n",
       "      <td>Keyboard</td>\n",
       "      <td>AQ Lite</td>\n",
       "      <td>1</td>\n",
       "      <td>148.250401</td>\n",
       "      <td>71.0</td>\n",
       "      <td>2965</td>\n",
       "    </tr>\n",
       "    <tr>\n",
       "      <th>6</th>\n",
       "      <td>Accessories</td>\n",
       "      <td>Keyboard</td>\n",
       "      <td>AQ Master wired x1</td>\n",
       "      <td>1</td>\n",
       "      <td>148.085129</td>\n",
       "      <td>71.0</td>\n",
       "      <td>2674</td>\n",
       "    </tr>\n",
       "    <tr>\n",
       "      <th>7</th>\n",
       "      <td>Accessories</td>\n",
       "      <td>Keyboard</td>\n",
       "      <td>AQ Master wireless x1</td>\n",
       "      <td>1</td>\n",
       "      <td>148.255384</td>\n",
       "      <td>72.0</td>\n",
       "      <td>2830</td>\n",
       "    </tr>\n",
       "    <tr>\n",
       "      <th>8</th>\n",
       "      <td>Accessories</td>\n",
       "      <td>Keyboard</td>\n",
       "      <td>AQ Maxima</td>\n",
       "      <td>1</td>\n",
       "      <td>154.595848</td>\n",
       "      <td>77.0</td>\n",
       "      <td>3021</td>\n",
       "    </tr>\n",
       "    <tr>\n",
       "      <th>9</th>\n",
       "      <td>Accessories</td>\n",
       "      <td>Keyboard</td>\n",
       "      <td>AQ Qwerty</td>\n",
       "      <td>2</td>\n",
       "      <td>183.971380</td>\n",
       "      <td>96.0</td>\n",
       "      <td>3070</td>\n",
       "    </tr>\n",
       "    <tr>\n",
       "      <th>10</th>\n",
       "      <td>Accessories</td>\n",
       "      <td>Keyboard</td>\n",
       "      <td>AQ Trigger</td>\n",
       "      <td>2</td>\n",
       "      <td>181.552897</td>\n",
       "      <td>96.0</td>\n",
       "      <td>2582</td>\n",
       "    </tr>\n",
       "    <tr>\n",
       "      <th>11</th>\n",
       "      <td>Accessories</td>\n",
       "      <td>Mouse</td>\n",
       "      <td>AQ Gamers Ms</td>\n",
       "      <td>1</td>\n",
       "      <td>179.760958</td>\n",
       "      <td>87.0</td>\n",
       "      <td>3599</td>\n",
       "    </tr>\n",
       "    <tr>\n",
       "      <th>12</th>\n",
       "      <td>Accessories</td>\n",
       "      <td>Mouse</td>\n",
       "      <td>AQ Lite Ms</td>\n",
       "      <td>1</td>\n",
       "      <td>178.151767</td>\n",
       "      <td>87.0</td>\n",
       "      <td>3263</td>\n",
       "    </tr>\n",
       "    <tr>\n",
       "      <th>13</th>\n",
       "      <td>Accessories</td>\n",
       "      <td>Mouse</td>\n",
       "      <td>AQ Lumina Ms</td>\n",
       "      <td>2</td>\n",
       "      <td>219.089846</td>\n",
       "      <td>113.0</td>\n",
       "      <td>3041</td>\n",
       "    </tr>\n",
       "    <tr>\n",
       "      <th>14</th>\n",
       "      <td>Accessories</td>\n",
       "      <td>Mouse</td>\n",
       "      <td>AQ Master wired x1 Ms</td>\n",
       "      <td>1</td>\n",
       "      <td>178.944793</td>\n",
       "      <td>87.0</td>\n",
       "      <td>3330</td>\n",
       "    </tr>\n",
       "    <tr>\n",
       "      <th>15</th>\n",
       "      <td>Accessories</td>\n",
       "      <td>Mouse</td>\n",
       "      <td>AQ Master wireless x1 Ms</td>\n",
       "      <td>1</td>\n",
       "      <td>178.394523</td>\n",
       "      <td>87.0</td>\n",
       "      <td>3399</td>\n",
       "    </tr>\n",
       "    <tr>\n",
       "      <th>16</th>\n",
       "      <td>Accessories</td>\n",
       "      <td>Mouse</td>\n",
       "      <td>AQ Maxima Ms</td>\n",
       "      <td>2</td>\n",
       "      <td>218.145579</td>\n",
       "      <td>113.0</td>\n",
       "      <td>3607</td>\n",
       "    </tr>\n",
       "    <tr>\n",
       "      <th>17</th>\n",
       "      <td>Accessories</td>\n",
       "      <td>Mouse</td>\n",
       "      <td>AQ Qwerty Ms</td>\n",
       "      <td>3</td>\n",
       "      <td>215.107390</td>\n",
       "      <td>113.0</td>\n",
       "      <td>3172</td>\n",
       "    </tr>\n",
       "    <tr>\n",
       "      <th>18</th>\n",
       "      <td>Accessories</td>\n",
       "      <td>Mouse</td>\n",
       "      <td>AQ Trigger Ms</td>\n",
       "      <td>2</td>\n",
       "      <td>215.786727</td>\n",
       "      <td>113.0</td>\n",
       "      <td>3413</td>\n",
       "    </tr>\n",
       "    <tr>\n",
       "      <th>19</th>\n",
       "      <td>Peripherals</td>\n",
       "      <td>Graphic Card</td>\n",
       "      <td>AQ GT 21</td>\n",
       "      <td>1</td>\n",
       "      <td>36.557188</td>\n",
       "      <td>18.0</td>\n",
       "      <td>640</td>\n",
       "    </tr>\n",
       "    <tr>\n",
       "      <th>20</th>\n",
       "      <td>Peripherals</td>\n",
       "      <td>Graphic Card</td>\n",
       "      <td>AQ Marquee P3</td>\n",
       "      <td>1</td>\n",
       "      <td>43.232323</td>\n",
       "      <td>22.0</td>\n",
       "      <td>659</td>\n",
       "    </tr>\n",
       "    <tr>\n",
       "      <th>21</th>\n",
       "      <td>Peripherals</td>\n",
       "      <td>Graphic Card</td>\n",
       "      <td>AQ Marquee P4</td>\n",
       "      <td>1</td>\n",
       "      <td>42.229665</td>\n",
       "      <td>22.0</td>\n",
       "      <td>681</td>\n",
       "    </tr>\n",
       "    <tr>\n",
       "      <th>22</th>\n",
       "      <td>Peripherals</td>\n",
       "      <td>Graphic Card</td>\n",
       "      <td>AQ Mforce Gen X</td>\n",
       "      <td>1</td>\n",
       "      <td>31.160811</td>\n",
       "      <td>15.0</td>\n",
       "      <td>657</td>\n",
       "    </tr>\n",
       "    <tr>\n",
       "      <th>23</th>\n",
       "      <td>Peripherals</td>\n",
       "      <td>Graphic Card</td>\n",
       "      <td>AQ Mforce Gen Y</td>\n",
       "      <td>1</td>\n",
       "      <td>34.077579</td>\n",
       "      <td>17.0</td>\n",
       "      <td>678</td>\n",
       "    </tr>\n",
       "    <tr>\n",
       "      <th>24</th>\n",
       "      <td>Peripherals</td>\n",
       "      <td>Graphic Card</td>\n",
       "      <td>AQ Mforce Gen Z</td>\n",
       "      <td>1</td>\n",
       "      <td>33.881339</td>\n",
       "      <td>17.0</td>\n",
       "      <td>681</td>\n",
       "    </tr>\n",
       "    <tr>\n",
       "      <th>25</th>\n",
       "      <td>Peripherals</td>\n",
       "      <td>Internal HDD</td>\n",
       "      <td>AQ Dracula HDD  3.5 Inch SATA 6 Gb/s 5400 RPM...</td>\n",
       "      <td>1</td>\n",
       "      <td>43.283520</td>\n",
       "      <td>21.0</td>\n",
       "      <td>820</td>\n",
       "    </tr>\n",
       "    <tr>\n",
       "      <th>26</th>\n",
       "      <td>Peripherals</td>\n",
       "      <td>Internal HDD</td>\n",
       "      <td>AQ WereWolf NAS Internal Hard Drive HDD  8.89 cm</td>\n",
       "      <td>1</td>\n",
       "      <td>43.743321</td>\n",
       "      <td>21.0</td>\n",
       "      <td>858</td>\n",
       "    </tr>\n",
       "    <tr>\n",
       "      <th>27</th>\n",
       "      <td>Peripherals</td>\n",
       "      <td>Internal HDD</td>\n",
       "      <td>AQ Zion Saga</td>\n",
       "      <td>1</td>\n",
       "      <td>48.101490</td>\n",
       "      <td>24.0</td>\n",
       "      <td>743</td>\n",
       "    </tr>\n",
       "    <tr>\n",
       "      <th>28</th>\n",
       "      <td>Peripherals</td>\n",
       "      <td>MotherBoard</td>\n",
       "      <td>AQ MB Crossx</td>\n",
       "      <td>1</td>\n",
       "      <td>19.733787</td>\n",
       "      <td>9.0</td>\n",
       "      <td>491</td>\n",
       "    </tr>\n",
       "    <tr>\n",
       "      <th>29</th>\n",
       "      <td>Peripherals</td>\n",
       "      <td>MotherBoard</td>\n",
       "      <td>AQ MB Crossx 2</td>\n",
       "      <td>1</td>\n",
       "      <td>19.962132</td>\n",
       "      <td>9.0</td>\n",
       "      <td>404</td>\n",
       "    </tr>\n",
       "    <tr>\n",
       "      <th>30</th>\n",
       "      <td>Peripherals</td>\n",
       "      <td>MotherBoard</td>\n",
       "      <td>AQ MB Elite</td>\n",
       "      <td>1</td>\n",
       "      <td>20.136252</td>\n",
       "      <td>9.0</td>\n",
       "      <td>465</td>\n",
       "    </tr>\n",
       "    <tr>\n",
       "      <th>31</th>\n",
       "      <td>Peripherals</td>\n",
       "      <td>MotherBoard</td>\n",
       "      <td>AQ MB Lito</td>\n",
       "      <td>1</td>\n",
       "      <td>29.709574</td>\n",
       "      <td>16.0</td>\n",
       "      <td>485</td>\n",
       "    </tr>\n",
       "    <tr>\n",
       "      <th>32</th>\n",
       "      <td>Peripherals</td>\n",
       "      <td>MotherBoard</td>\n",
       "      <td>AQ MB Lito 2</td>\n",
       "      <td>1</td>\n",
       "      <td>29.967364</td>\n",
       "      <td>16.0</td>\n",
       "      <td>421</td>\n",
       "    </tr>\n",
       "    <tr>\n",
       "      <th>33</th>\n",
       "      <td>Peripherals</td>\n",
       "      <td>Processors</td>\n",
       "      <td>AQ 5000 Series Electron 8 5900X Desktop Processor</td>\n",
       "      <td>1</td>\n",
       "      <td>34.228842</td>\n",
       "      <td>17.0</td>\n",
       "      <td>657</td>\n",
       "    </tr>\n",
       "    <tr>\n",
       "      <th>34</th>\n",
       "      <td>Peripherals</td>\n",
       "      <td>Processors</td>\n",
       "      <td>AQ 5000 Series Electron 9 5900X Desktop Processor</td>\n",
       "      <td>1</td>\n",
       "      <td>34.336066</td>\n",
       "      <td>17.0</td>\n",
       "      <td>666</td>\n",
       "    </tr>\n",
       "    <tr>\n",
       "      <th>35</th>\n",
       "      <td>Peripherals</td>\n",
       "      <td>Processors</td>\n",
       "      <td>AQ 5000 Series Ultron 8 5900X Desktop Processor</td>\n",
       "      <td>1</td>\n",
       "      <td>34.115661</td>\n",
       "      <td>16.0</td>\n",
       "      <td>696</td>\n",
       "    </tr>\n",
       "    <tr>\n",
       "      <th>36</th>\n",
       "      <td>Peripherals</td>\n",
       "      <td>Processors</td>\n",
       "      <td>AQ Electron 3 3600 Desktop Processor</td>\n",
       "      <td>1</td>\n",
       "      <td>43.201754</td>\n",
       "      <td>23.0</td>\n",
       "      <td>534</td>\n",
       "    </tr>\n",
       "    <tr>\n",
       "      <th>37</th>\n",
       "      <td>Peripherals</td>\n",
       "      <td>Processors</td>\n",
       "      <td>AQ Electron 4 3600 Desktop Processor</td>\n",
       "      <td>1</td>\n",
       "      <td>38.584265</td>\n",
       "      <td>20.0</td>\n",
       "      <td>596</td>\n",
       "    </tr>\n",
       "    <tr>\n",
       "      <th>38</th>\n",
       "      <td>Peripherals</td>\n",
       "      <td>Processors</td>\n",
       "      <td>AQ Electron 5 3600 Desktop Processor</td>\n",
       "      <td>1</td>\n",
       "      <td>34.129687</td>\n",
       "      <td>17.0</td>\n",
       "      <td>718</td>\n",
       "    </tr>\n",
       "  </tbody>\n",
       "</table>\n",
       "</div>"
      ],
      "text/plain": [
       "        segment      category  \\\n",
       "0   Accessories     Batteries   \n",
       "1   Accessories     Batteries   \n",
       "2   Accessories     Batteries   \n",
       "3   Accessories     Batteries   \n",
       "4   Accessories      Keyboard   \n",
       "5   Accessories      Keyboard   \n",
       "6   Accessories      Keyboard   \n",
       "7   Accessories      Keyboard   \n",
       "8   Accessories      Keyboard   \n",
       "9   Accessories      Keyboard   \n",
       "10  Accessories      Keyboard   \n",
       "11  Accessories         Mouse   \n",
       "12  Accessories         Mouse   \n",
       "13  Accessories         Mouse   \n",
       "14  Accessories         Mouse   \n",
       "15  Accessories         Mouse   \n",
       "16  Accessories         Mouse   \n",
       "17  Accessories         Mouse   \n",
       "18  Accessories         Mouse   \n",
       "19  Peripherals  Graphic Card   \n",
       "20  Peripherals  Graphic Card   \n",
       "21  Peripherals  Graphic Card   \n",
       "22  Peripherals  Graphic Card   \n",
       "23  Peripherals  Graphic Card   \n",
       "24  Peripherals  Graphic Card   \n",
       "25  Peripherals  Internal HDD   \n",
       "26  Peripherals  Internal HDD   \n",
       "27  Peripherals  Internal HDD   \n",
       "28  Peripherals   MotherBoard   \n",
       "29  Peripherals   MotherBoard   \n",
       "30  Peripherals   MotherBoard   \n",
       "31  Peripherals   MotherBoard   \n",
       "32  Peripherals   MotherBoard   \n",
       "33  Peripherals    Processors   \n",
       "34  Peripherals    Processors   \n",
       "35  Peripherals    Processors   \n",
       "36  Peripherals    Processors   \n",
       "37  Peripherals    Processors   \n",
       "38  Peripherals    Processors   \n",
       "\n",
       "                                              product  min        mean  \\\n",
       "0                                          AQ LION x1    1   12.101442   \n",
       "1                                          AQ LION x2    1   13.137897   \n",
       "2                                          AQ LION x3    1   13.083733   \n",
       "3                                            AQ Mx NB    1   15.815132   \n",
       "4                                          AQ Gamers     1  148.698954   \n",
       "5                                             AQ Lite    1  148.250401   \n",
       "6                                  AQ Master wired x1    1  148.085129   \n",
       "7                               AQ Master wireless x1    1  148.255384   \n",
       "8                                           AQ Maxima    1  154.595848   \n",
       "9                                           AQ Qwerty    2  183.971380   \n",
       "10                                         AQ Trigger    2  181.552897   \n",
       "11                                       AQ Gamers Ms    1  179.760958   \n",
       "12                                         AQ Lite Ms    1  178.151767   \n",
       "13                                       AQ Lumina Ms    2  219.089846   \n",
       "14                              AQ Master wired x1 Ms    1  178.944793   \n",
       "15                           AQ Master wireless x1 Ms    1  178.394523   \n",
       "16                                       AQ Maxima Ms    2  218.145579   \n",
       "17                                       AQ Qwerty Ms    3  215.107390   \n",
       "18                                      AQ Trigger Ms    2  215.786727   \n",
       "19                                           AQ GT 21    1   36.557188   \n",
       "20                                      AQ Marquee P3    1   43.232323   \n",
       "21                                      AQ Marquee P4    1   42.229665   \n",
       "22                                    AQ Mforce Gen X    1   31.160811   \n",
       "23                                    AQ Mforce Gen Y    1   34.077579   \n",
       "24                                    AQ Mforce Gen Z    1   33.881339   \n",
       "25  AQ Dracula HDD  3.5 Inch SATA 6 Gb/s 5400 RPM...    1   43.283520   \n",
       "26  AQ WereWolf NAS Internal Hard Drive HDD  8.89 cm    1   43.743321   \n",
       "27                                       AQ Zion Saga    1   48.101490   \n",
       "28                                       AQ MB Crossx    1   19.733787   \n",
       "29                                     AQ MB Crossx 2    1   19.962132   \n",
       "30                                        AQ MB Elite    1   20.136252   \n",
       "31                                         AQ MB Lito    1   29.709574   \n",
       "32                                       AQ MB Lito 2    1   29.967364   \n",
       "33  AQ 5000 Series Electron 8 5900X Desktop Processor    1   34.228842   \n",
       "34  AQ 5000 Series Electron 9 5900X Desktop Processor    1   34.336066   \n",
       "35    AQ 5000 Series Ultron 8 5900X Desktop Processor    1   34.115661   \n",
       "36               AQ Electron 3 3600 Desktop Processor    1   43.201754   \n",
       "37               AQ Electron 4 3600 Desktop Processor    1   38.584265   \n",
       "38               AQ Electron 5 3600 Desktop Processor    1   34.129687   \n",
       "\n",
       "    median   max  \n",
       "0      5.0   300  \n",
       "1      5.0   295  \n",
       "2      5.0   281  \n",
       "3      8.0   285  \n",
       "4     72.0  2755  \n",
       "5     71.0  2965  \n",
       "6     71.0  2674  \n",
       "7     72.0  2830  \n",
       "8     77.0  3021  \n",
       "9     96.0  3070  \n",
       "10    96.0  2582  \n",
       "11    87.0  3599  \n",
       "12    87.0  3263  \n",
       "13   113.0  3041  \n",
       "14    87.0  3330  \n",
       "15    87.0  3399  \n",
       "16   113.0  3607  \n",
       "17   113.0  3172  \n",
       "18   113.0  3413  \n",
       "19    18.0   640  \n",
       "20    22.0   659  \n",
       "21    22.0   681  \n",
       "22    15.0   657  \n",
       "23    17.0   678  \n",
       "24    17.0   681  \n",
       "25    21.0   820  \n",
       "26    21.0   858  \n",
       "27    24.0   743  \n",
       "28     9.0   491  \n",
       "29     9.0   404  \n",
       "30     9.0   465  \n",
       "31    16.0   485  \n",
       "32    16.0   421  \n",
       "33    17.0   657  \n",
       "34    17.0   666  \n",
       "35    16.0   696  \n",
       "36    23.0   534  \n",
       "37    20.0   596  \n",
       "38    17.0   718  "
      ]
     },
     "metadata": {},
     "output_type": "display_data"
    }
   ],
   "source": [
    "# summarize data table\n",
    "fact_sold_quantity = fact_sales_monthly.merge(dim_products, how='left', on='product_code', validate='many_to_one')\n",
    "# filter rows with division is \"P & A\"\n",
    "pna_df = fact_sold_quantity[fact_sold_quantity['division']=='P & A']\n",
    "# statistics values\n",
    "stats_pna = pna_df.groupby(['segment', 'category','product']).agg(\n",
    "    min=('sold_quantity','min'),\n",
    "    mean=('sold_quantity','mean'),\n",
    "    median=('sold_quantity','median'),\n",
    "    max=('sold_quantity','max')\n",
    "    ).reset_index()\n",
    "# check data after processing\n",
    "display(stats_pna)"
   ]
  },
  {
   "cell_type": "code",
   "execution_count": 157,
   "metadata": {},
   "outputs": [
    {
     "data": {
      "image/png": "[encoded data removed]",
      "text/plain": [
       "<Figure size 1600x600 with 2 Axes>"
      ]
     },
     "metadata": {},
     "output_type": "display_data"
    },
    {
     "name": "stdout",
     "output_type": "stream",
     "text": [
      "The Skew of Sold Quantity data is 4.93\n"
     ]
    }
   ],
   "source": [
    "# overview of outliers\n",
    "# set the size of the figure\n",
    "plt.figure(figsize=(16,6))\n",
    "# first subplot for sold quantity outliers in \"P & A\" division\n",
    "plt.subplot(1,2,1)\n",
    "plt.grid()\n",
    "sns.boxplot(data=pna_df, x='sold_quantity', color='#DC5F00')\n",
    "plt.title(\"Distribution by BoxPlot\")\n",
    "# second subplots for sold quantity outliers in \"P&A\" division\n",
    "plt.subplot(1,2,2)\n",
    "plt.grid()\n",
    "sns.histplot(data=pna_df, x='sold_quantity', color='#DC5F00')\n",
    "plt.title(\"Distribution by HisPlot\")\n",
    "# show the chart\n",
    "plt.show()\n",
    "# check the deviation of data in the \"sold quantity\" columns\n",
    "print(f\"The Skew of Sold Quantity data is {round(pna_df['sold_quantity'].skew(), 2)}\")"
   ]
  },
  {
   "cell_type": "code",
   "execution_count": 158,
   "metadata": {},
   "outputs": [
    {
     "name": "stdout",
     "output_type": "stream",
     "text": [
      "Lower bound of P&A division is -120.5\n",
      "Median point of P&A division is 31.0\n",
      "Upper bound of P&A division is 227.5\n",
      "The percentage of sold quantity that are outliers of P&A division is 10.52%\n"
     ]
    }
   ],
   "source": [
    "# check the outliers, find out the upper bound and lower bound of the sales columns\n",
    "bounds_sold_quantity_pna = check_outlier(pna_df, 'sold_quantity')\n",
    "\n",
    "# print out the required information\n",
    "print(f\"Lower bound of P&A division is {bounds_sold_quantity_pna['lower_bound'].values[0]}\")\n",
    "print(f\"Median point of P&A division is {bounds_sold_quantity_pna['median'].values[0]}\")\n",
    "print(f\"Upper bound of P&A division is {bounds_sold_quantity_pna['upper_bound'].values[0]}\")\n",
    "print(f\"The percentage of sold quantity that are outliers of P&A division is {bounds_sold_quantity_pna['percent_outliers'].values[0]}%\")"
   ]
  },
  {
   "cell_type": "code",
   "execution_count": 159,
   "metadata": {},
   "outputs": [
    {
     "name": "stdout",
     "output_type": "stream",
     "text": [
      "The total number of outliers is 57887\n"
     ]
    }
   ],
   "source": [
    "# filter rows with sold quantity greater than upper bound of sold quantity\n",
    "outliers_pna = pna_df[pna_df['sold_quantity']>bounds_sold_quantity_pna['upper_bound'].values[0]]\n",
    "# Check how many rows are outliers\n",
    "print(f\"The total number of outliers is {outliers_pna.shape[0]}\")"
   ]
  },
  {
   "cell_type": "code",
   "execution_count": 160,
   "metadata": {},
   "outputs": [
    {
     "data": {
      "image/png": "[encoded data removed]",
      "text/plain": [
       "<Figure size 2000x1000 with 1 Axes>"
      ]
     },
     "metadata": {},
     "output_type": "display_data"
    }
   ],
   "source": [
    "# filter sold quantity values by date, segment and category\n",
    "outliers_pna_by_category = outliers_pna.groupby(['date','segment','category']).agg(total_sold_quantity=('sold_quantity','sum')).reset_index()\n",
    "# change data type of a column\n",
    "outliers_pna_by_category['date'] = pd.to_datetime(outliers_pna_by_category['date'])\n",
    "# set the size of the figure\n",
    "plt.figure(figsize=(20,10))\n",
    "# plot the line chart for the column\n",
    "ax = sns.lineplot(data=outliers_pna_by_category, x='date', y='total_sold_quantity', hue='category', marker='o', palette='bright')\n",
    "# set the line chart for the column\n",
    "plt.title(\"Distribution of Total Sold Quantity that are outliers by Category in P&A division\")\n",
    "plt.xlabel('Date')\n",
    "plt.ylabel('Total Sold Quantity Outlier Values')\n",
    "plt.ylim(outliers_pna_by_category['total_sold_quantity'].min()*0.95, outliers_pna_by_category['total_sold_quantity'].max()*1.05) # set x-ticks with labels\n",
    "plt.grid()\n",
    "# Display legend\n",
    "plt.legend(title='Category')\n",
    "# Adjust layout\n",
    "plt.tight_layout()\n",
    "# show the plot\n",
    "plt.show()"
   ]
  },
  {
   "cell_type": "markdown",
   "metadata": {},
   "source": [
    "##### Explore \"N & S\" division Sold Quantity Outliers"
   ]
  },
  {
   "cell_type": "code",
   "execution_count": 161,
   "metadata": {},
   "outputs": [
    {
     "data": {
      "text/html": [
       "<div>\n",
       "<style scoped>\n",
       "    .dataframe tbody tr th:only-of-type {\n",
       "        vertical-align: middle;\n",
       "    }\n",
       "\n",
       "    .dataframe tbody tr th {\n",
       "        vertical-align: top;\n",
       "    }\n",
       "\n",
       "    .dataframe thead th {\n",
       "        text-align: right;\n",
       "    }\n",
       "</style>\n",
       "<table border=\"1\" class=\"dataframe\">\n",
       "  <thead>\n",
       "    <tr style=\"text-align: right;\">\n",
       "      <th></th>\n",
       "      <th>segment</th>\n",
       "      <th>category</th>\n",
       "      <th>product</th>\n",
       "      <th>min</th>\n",
       "      <th>mean</th>\n",
       "      <th>median</th>\n",
       "      <th>max</th>\n",
       "    </tr>\n",
       "  </thead>\n",
       "  <tbody>\n",
       "    <tr>\n",
       "      <th>0</th>\n",
       "      <td>Networking</td>\n",
       "      <td>Wi fi extender</td>\n",
       "      <td>AQ Wi Power Dx1</td>\n",
       "      <td>1</td>\n",
       "      <td>150.940627</td>\n",
       "      <td>72.0</td>\n",
       "      <td>3282</td>\n",
       "    </tr>\n",
       "    <tr>\n",
       "      <th>1</th>\n",
       "      <td>Networking</td>\n",
       "      <td>Wi fi extender</td>\n",
       "      <td>AQ Wi Power Dx2</td>\n",
       "      <td>1</td>\n",
       "      <td>149.919563</td>\n",
       "      <td>73.0</td>\n",
       "      <td>3323</td>\n",
       "    </tr>\n",
       "    <tr>\n",
       "      <th>2</th>\n",
       "      <td>Networking</td>\n",
       "      <td>Wi fi extender</td>\n",
       "      <td>AQ Wi Power Dx3</td>\n",
       "      <td>3</td>\n",
       "      <td>152.277158</td>\n",
       "      <td>79.0</td>\n",
       "      <td>2492</td>\n",
       "    </tr>\n",
       "    <tr>\n",
       "      <th>3</th>\n",
       "      <td>Storage</td>\n",
       "      <td>External Solid State Drives</td>\n",
       "      <td>AQ Clx1</td>\n",
       "      <td>1</td>\n",
       "      <td>193.158966</td>\n",
       "      <td>93.5</td>\n",
       "      <td>3698</td>\n",
       "    </tr>\n",
       "    <tr>\n",
       "      <th>4</th>\n",
       "      <td>Storage</td>\n",
       "      <td>External Solid State Drives</td>\n",
       "      <td>AQ Clx2</td>\n",
       "      <td>1</td>\n",
       "      <td>200.805404</td>\n",
       "      <td>102.0</td>\n",
       "      <td>3805</td>\n",
       "    </tr>\n",
       "    <tr>\n",
       "      <th>5</th>\n",
       "      <td>Storage</td>\n",
       "      <td>External Solid State Drives</td>\n",
       "      <td>AQ Clx3</td>\n",
       "      <td>5</td>\n",
       "      <td>217.172780</td>\n",
       "      <td>115.0</td>\n",
       "      <td>2935</td>\n",
       "    </tr>\n",
       "    <tr>\n",
       "      <th>6</th>\n",
       "      <td>Storage</td>\n",
       "      <td>External Solid State Drives</td>\n",
       "      <td>AQ Digit SSD</td>\n",
       "      <td>1</td>\n",
       "      <td>191.937272</td>\n",
       "      <td>94.0</td>\n",
       "      <td>3441</td>\n",
       "    </tr>\n",
       "    <tr>\n",
       "      <th>7</th>\n",
       "      <td>Storage</td>\n",
       "      <td>External Solid State Drives</td>\n",
       "      <td>AQ Neuer SSD</td>\n",
       "      <td>1</td>\n",
       "      <td>191.065310</td>\n",
       "      <td>92.0</td>\n",
       "      <td>3727</td>\n",
       "    </tr>\n",
       "    <tr>\n",
       "      <th>8</th>\n",
       "      <td>Storage</td>\n",
       "      <td>USB Flash Drives</td>\n",
       "      <td>AQ Pen Drive 2 IN 1</td>\n",
       "      <td>1</td>\n",
       "      <td>308.714248</td>\n",
       "      <td>149.0</td>\n",
       "      <td>5313</td>\n",
       "    </tr>\n",
       "    <tr>\n",
       "      <th>9</th>\n",
       "      <td>Storage</td>\n",
       "      <td>USB Flash Drives</td>\n",
       "      <td>AQ Pen Drive DRC</td>\n",
       "      <td>1</td>\n",
       "      <td>331.517957</td>\n",
       "      <td>169.0</td>\n",
       "      <td>5832</td>\n",
       "    </tr>\n",
       "  </tbody>\n",
       "</table>\n",
       "</div>"
      ],
      "text/plain": [
       "      segment                     category              product  min  \\\n",
       "0  Networking               Wi fi extender      AQ Wi Power Dx1    1   \n",
       "1  Networking               Wi fi extender      AQ Wi Power Dx2    1   \n",
       "2  Networking               Wi fi extender      AQ Wi Power Dx3    3   \n",
       "3     Storage  External Solid State Drives              AQ Clx1    1   \n",
       "4     Storage  External Solid State Drives              AQ Clx2    1   \n",
       "5     Storage  External Solid State Drives              AQ Clx3    5   \n",
       "6     Storage  External Solid State Drives         AQ Digit SSD    1   \n",
       "7     Storage  External Solid State Drives         AQ Neuer SSD    1   \n",
       "8     Storage             USB Flash Drives  AQ Pen Drive 2 IN 1    1   \n",
       "9     Storage             USB Flash Drives     AQ Pen Drive DRC    1   \n",
       "\n",
       "         mean  median   max  \n",
       "0  150.940627    72.0  3282  \n",
       "1  149.919563    73.0  3323  \n",
       "2  152.277158    79.0  2492  \n",
       "3  193.158966    93.5  3698  \n",
       "4  200.805404   102.0  3805  \n",
       "5  217.172780   115.0  2935  \n",
       "6  191.937272    94.0  3441  \n",
       "7  191.065310    92.0  3727  \n",
       "8  308.714248   149.0  5313  \n",
       "9  331.517957   169.0  5832  "
      ]
     },
     "metadata": {},
     "output_type": "display_data"
    }
   ],
   "source": [
    "# filter rows with division is \"N & S\"\n",
    "nns_df = fact_sold_quantity[fact_sold_quantity['division']=='N & S']\n",
    "# statistics values\n",
    "stats_nns = nns_df.groupby(['segment', 'category','product']).agg(\n",
    "    min=('sold_quantity','min'),\n",
    "    mean=('sold_quantity','mean'),\n",
    "    median=('sold_quantity','median'),\n",
    "    max=('sold_quantity','max')\n",
    "    ).reset_index()\n",
    "# check data after processing\n",
    "display(stats_nns)"
   ]
  },
  {
   "cell_type": "code",
   "execution_count": 162,
   "metadata": {},
   "outputs": [
    {
     "data": {
      "image/png": "[encoded data removed]",
      "text/plain": [
       "<Figure size 1600x600 with 2 Axes>"
      ]
     },
     "metadata": {},
     "output_type": "display_data"
    },
    {
     "name": "stdout",
     "output_type": "stream",
     "text": [
      "The Skew of Sold Quantity data is 4.23\n"
     ]
    }
   ],
   "source": [
    "# overview of outliers\n",
    "# set the size of the figure\n",
    "plt.figure(figsize=(16,6))\n",
    "# first subplot for sold quantity outliers in \"N & S\" division\n",
    "plt.subplot(1,2,1)\n",
    "plt.grid()\n",
    "sns.boxplot(data=nns_df, x='sold_quantity', color='#DC5F00')\n",
    "plt.title(\"Distribution by BoxPlot\")\n",
    "# second subplots for sold quantity outliers in \"N & S\" division\n",
    "plt.subplot(1,2,2)\n",
    "plt.grid()\n",
    "sns.histplot(data=nns_df, x='sold_quantity', color='#DC5F00')\n",
    "plt.title(\"Distribution by HisPlot\")\n",
    "# show the chart\n",
    "plt.show()\n",
    "# check the deviation of data in the \"sold quantity\" columns\n",
    "print(f\"The Skew of Sold Quantity data is {round(nns_df['sold_quantity'].skew(), 2)}\")"
   ]
  },
  {
   "cell_type": "code",
   "execution_count": 163,
   "metadata": {},
   "outputs": [
    {
     "name": "stdout",
     "output_type": "stream",
     "text": [
      "Lower bound of N&S division is -235.0\n",
      "Median point of N&S division is 93.0\n",
      "Upper bound of N&S division is 493.0\n",
      "The percentage of sold quantity that are outliers of N&S division is 10.15%\n"
     ]
    }
   ],
   "source": [
    "# check the outliers, find out the upper bound and lower bound of the sales columns\n",
    "bounds_sold_quantity_nns = check_outlier(nns_df, 'sold_quantity')\n",
    "# print out the required information\n",
    "print(f\"Lower bound of N&S division is {bounds_sold_quantity_nns['lower_bound'].values[0]}\")\n",
    "print(f\"Median point of N&S division is {bounds_sold_quantity_nns['median'].values[0]}\")\n",
    "print(f\"Upper bound of N&S division is {bounds_sold_quantity_nns['upper_bound'].values[0]}\")\n",
    "print(f\"The percentage of sold quantity that are outliers of N&S division is {bounds_sold_quantity_nns['percent_outliers'].values[0]}%\")"
   ]
  },
  {
   "cell_type": "code",
   "execution_count": 164,
   "metadata": {},
   "outputs": [
    {
     "name": "stdout",
     "output_type": "stream",
     "text": [
      "The total number of outliers is 8382\n"
     ]
    }
   ],
   "source": [
    "# filter rows with sold quantity greater than upper bound of sold quantity\n",
    "outliers_nns = nns_df[nns_df['sold_quantity']>bounds_sold_quantity_nns['upper_bound'].values[0]]\n",
    "# Check how many rows are outliers\n",
    "print(f\"The total number of outliers is {outliers_nns.shape[0]}\")"
   ]
  },
  {
   "cell_type": "code",
   "execution_count": 165,
   "metadata": {},
   "outputs": [
    {
     "data": {
      "image/png": "[encoded data removed]",
      "text/plain": [
       "<Figure size 2000x1000 with 1 Axes>"
      ]
     },
     "metadata": {},
     "output_type": "display_data"
    }
   ],
   "source": [
    "# filter sold quantity values by date, segment and category\n",
    "outliers_nns_by_category = outliers_nns.groupby(['date','segment','category']).agg(total_sold_quantity=('sold_quantity','sum')).reset_index()\n",
    "# change data type of a column\n",
    "outliers_nns_by_category['date'] = pd.to_datetime(outliers_nns_by_category['date'])\n",
    "# set the size of the figure\n",
    "plt.figure(figsize=(20,10))\n",
    "# plot the line chart for the column\n",
    "ax = sns.lineplot(data=outliers_nns_by_category, x='date', y='total_sold_quantity', hue='category', marker='o', palette='bright')\n",
    "# set the line chart for the column\n",
    "plt.title(\"Distribution of Total Sold Quantity that are outliers by Category in N & S division\")\n",
    "plt.xlabel('Date')\n",
    "plt.ylabel('Total Sold Quantity Outlier Values')\n",
    "plt.ylim(outliers_nns_by_category['total_sold_quantity'].min()*0.95, outliers_nns_by_category['total_sold_quantity'].max()*1.05) # set x-ticks with labels\n",
    "plt.grid()\n",
    "# Display legend\n",
    "plt.legend(title='Category')\n",
    "# Adjust layout\n",
    "plt.tight_layout()\n",
    "# show the plot\n",
    "plt.show()"
   ]
  },
  {
   "cell_type": "markdown",
   "metadata": {},
   "source": [
    "## Export Processed Data"
   ]
  },
  {
   "cell_type": "code",
   "execution_count": 166,
   "metadata": {},
   "outputs": [],
   "source": [
    "# dim customers\n",
    "dim_customers.to_csv(\"C:/Users/PC/Downloads/Atliq_Hardwares-Provide_Insights_to_Management_in_Consumer_Goods_Domain/data/processed_data/dim_customers.csv\", index=False, encoding='ISO-8859-1')\n",
    "# dim products\n",
    "dim_products.to_csv(\"C:/Users/PC/Downloads/Atliq_Hardwares-Provide_Insights_to_Management_in_Consumer_Goods_Domain/data/processed_data/dim_products.csv\", index=False, encoding='ISO-8859-1')\n",
    "# fact_gross_price\n",
    "fact_gross_price.to_csv(\"C:/Users/PC/Downloads/Atliq_Hardwares-Provide_Insights_to_Management_in_Consumer_Goods_Domain/data/processed_data/fact_gross_price.csv\", index=False, encoding='ISO-8859-1')\n",
    "# fact_manufacturing_cost\n",
    "fact_manufacturing_cost.to_csv(\"C:/Users/PC/Downloads/Atliq_Hardwares-Provide_Insights_to_Management_in_Consumer_Goods_Domain/data/processed_data/fact_manufacturing_cost.csv\", index=False, encoding='ISO-8859-1')\n",
    "# discount data\n",
    "fact_pre_invoice_deduction.to_csv(\"C:/Users/PC/Downloads/Atliq_Hardwares-Provide_Insights_to_Management_in_Consumer_Goods_Domain/data/processed_data/fact_pre_invoice_deduction.csv\", index=False, encoding='ISO-8859-1')\n",
    "# sales data\n",
    "fact_sales_monthly.to_csv(\"C:/Users/PC/Downloads/Atliq_Hardwares-Provide_Insights_to_Management_in_Consumer_Goods_Domain/data/processed_data/fact_sales_monthly.csv\", index=False, encoding='ISO-8859-1')"
   ]
  },
  {
   "cell_type": "markdown",
   "metadata": {},
   "source": [
    "# Next Steps"
   ]
  }
 ],
 "metadata": {
  "kernelspec": {
   "display_name": "Python 3",
   "language": "python",
   "name": "python3"
  },
  "language_info": {
   "codemirror_mode": {
    "name": "ipython",
    "version": 3
   },
   "file_extension": ".py",
   "mimetype": "text/x-python",
   "name": "python",
   "nbconvert_exporter": "python",
   "pygments_lexer": "ipython3",
   "version": "3.11.4"
  }
 },
 "nbformat": 4,
 "nbformat_minor": 2
}
